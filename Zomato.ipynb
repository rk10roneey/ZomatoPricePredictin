{
 "cells": [
  {
   "cell_type": "code",
   "execution_count": 1,
   "id": "conditional-wrapping",
   "metadata": {},
   "outputs": [],
   "source": [
    "import numpy as np\n",
    "import pandas as pd\n",
    "import matplotlib.pyplot as plt\n",
    "from matplotlib import rcParams\n",
    "import seaborn as sns\n",
    "import sys"
   ]
  },
  {
   "cell_type": "code",
   "execution_count": 2,
   "id": "southwest-ivory",
   "metadata": {},
   "outputs": [],
   "source": [
    "data=pd.read_csv('zomato.csv')"
   ]
  },
  {
   "cell_type": "code",
   "execution_count": 3,
   "id": "public-apparatus",
   "metadata": {},
   "outputs": [
    {
     "data": {
      "text/html": [
       "<div>\n",
       "<style scoped>\n",
       "    .dataframe tbody tr th:only-of-type {\n",
       "        vertical-align: middle;\n",
       "    }\n",
       "\n",
       "    .dataframe tbody tr th {\n",
       "        vertical-align: top;\n",
       "    }\n",
       "\n",
       "    .dataframe thead th {\n",
       "        text-align: right;\n",
       "    }\n",
       "</style>\n",
       "<table border=\"1\" class=\"dataframe\">\n",
       "  <thead>\n",
       "    <tr style=\"text-align: right;\">\n",
       "      <th></th>\n",
       "      <th>url</th>\n",
       "      <th>address</th>\n",
       "      <th>name</th>\n",
       "      <th>online_order</th>\n",
       "      <th>book_table</th>\n",
       "      <th>rate</th>\n",
       "      <th>votes</th>\n",
       "      <th>phone</th>\n",
       "      <th>location</th>\n",
       "      <th>rest_type</th>\n",
       "      <th>dish_liked</th>\n",
       "      <th>cuisines</th>\n",
       "      <th>approx_cost(for two people)</th>\n",
       "      <th>reviews_list</th>\n",
       "      <th>menu_item</th>\n",
       "      <th>listed_in(type)</th>\n",
       "      <th>listed_in(city)</th>\n",
       "    </tr>\n",
       "  </thead>\n",
       "  <tbody>\n",
       "    <tr>\n",
       "      <th>0</th>\n",
       "      <td>https://www.zomato.com/bangalore/jalsa-banasha...</td>\n",
       "      <td>942, 21st Main Road, 2nd Stage, Banashankari, ...</td>\n",
       "      <td>Jalsa</td>\n",
       "      <td>Yes</td>\n",
       "      <td>Yes</td>\n",
       "      <td>4.1/5</td>\n",
       "      <td>775</td>\n",
       "      <td>080 42297555\\r\\n+91 9743772233</td>\n",
       "      <td>Banashankari</td>\n",
       "      <td>Casual Dining</td>\n",
       "      <td>Pasta, Lunch Buffet, Masala Papad, Paneer Laja...</td>\n",
       "      <td>North Indian, Mughlai, Chinese</td>\n",
       "      <td>800</td>\n",
       "      <td>[('Rated 4.0', 'RATED\\n  A beautiful place to ...</td>\n",
       "      <td>[]</td>\n",
       "      <td>Buffet</td>\n",
       "      <td>Banashankari</td>\n",
       "    </tr>\n",
       "    <tr>\n",
       "      <th>1</th>\n",
       "      <td>https://www.zomato.com/bangalore/spice-elephan...</td>\n",
       "      <td>2nd Floor, 80 Feet Road, Near Big Bazaar, 6th ...</td>\n",
       "      <td>Spice Elephant</td>\n",
       "      <td>Yes</td>\n",
       "      <td>No</td>\n",
       "      <td>4.1/5</td>\n",
       "      <td>787</td>\n",
       "      <td>080 41714161</td>\n",
       "      <td>Banashankari</td>\n",
       "      <td>Casual Dining</td>\n",
       "      <td>Momos, Lunch Buffet, Chocolate Nirvana, Thai G...</td>\n",
       "      <td>Chinese, North Indian, Thai</td>\n",
       "      <td>800</td>\n",
       "      <td>[('Rated 4.0', 'RATED\\n  Had been here for din...</td>\n",
       "      <td>[]</td>\n",
       "      <td>Buffet</td>\n",
       "      <td>Banashankari</td>\n",
       "    </tr>\n",
       "    <tr>\n",
       "      <th>2</th>\n",
       "      <td>https://www.zomato.com/SanchurroBangalore?cont...</td>\n",
       "      <td>1112, Next to KIMS Medical College, 17th Cross...</td>\n",
       "      <td>San Churro Cafe</td>\n",
       "      <td>Yes</td>\n",
       "      <td>No</td>\n",
       "      <td>3.8/5</td>\n",
       "      <td>918</td>\n",
       "      <td>+91 9663487993</td>\n",
       "      <td>Banashankari</td>\n",
       "      <td>Cafe, Casual Dining</td>\n",
       "      <td>Churros, Cannelloni, Minestrone Soup, Hot Choc...</td>\n",
       "      <td>Cafe, Mexican, Italian</td>\n",
       "      <td>800</td>\n",
       "      <td>[('Rated 3.0', \"RATED\\n  Ambience is not that ...</td>\n",
       "      <td>[]</td>\n",
       "      <td>Buffet</td>\n",
       "      <td>Banashankari</td>\n",
       "    </tr>\n",
       "    <tr>\n",
       "      <th>3</th>\n",
       "      <td>https://www.zomato.com/bangalore/addhuri-udupi...</td>\n",
       "      <td>1st Floor, Annakuteera, 3rd Stage, Banashankar...</td>\n",
       "      <td>Addhuri Udupi Bhojana</td>\n",
       "      <td>No</td>\n",
       "      <td>No</td>\n",
       "      <td>3.7/5</td>\n",
       "      <td>88</td>\n",
       "      <td>+91 9620009302</td>\n",
       "      <td>Banashankari</td>\n",
       "      <td>Quick Bites</td>\n",
       "      <td>Masala Dosa</td>\n",
       "      <td>South Indian, North Indian</td>\n",
       "      <td>300</td>\n",
       "      <td>[('Rated 4.0', \"RATED\\n  Great food and proper...</td>\n",
       "      <td>[]</td>\n",
       "      <td>Buffet</td>\n",
       "      <td>Banashankari</td>\n",
       "    </tr>\n",
       "    <tr>\n",
       "      <th>4</th>\n",
       "      <td>https://www.zomato.com/bangalore/grand-village...</td>\n",
       "      <td>10, 3rd Floor, Lakshmi Associates, Gandhi Baza...</td>\n",
       "      <td>Grand Village</td>\n",
       "      <td>No</td>\n",
       "      <td>No</td>\n",
       "      <td>3.8/5</td>\n",
       "      <td>166</td>\n",
       "      <td>+91 8026612447\\r\\n+91 9901210005</td>\n",
       "      <td>Basavanagudi</td>\n",
       "      <td>Casual Dining</td>\n",
       "      <td>Panipuri, Gol Gappe</td>\n",
       "      <td>North Indian, Rajasthani</td>\n",
       "      <td>600</td>\n",
       "      <td>[('Rated 4.0', 'RATED\\n  Very good restaurant ...</td>\n",
       "      <td>[]</td>\n",
       "      <td>Buffet</td>\n",
       "      <td>Banashankari</td>\n",
       "    </tr>\n",
       "  </tbody>\n",
       "</table>\n",
       "</div>"
      ],
      "text/plain": [
       "                                                 url  \\\n",
       "0  https://www.zomato.com/bangalore/jalsa-banasha...   \n",
       "1  https://www.zomato.com/bangalore/spice-elephan...   \n",
       "2  https://www.zomato.com/SanchurroBangalore?cont...   \n",
       "3  https://www.zomato.com/bangalore/addhuri-udupi...   \n",
       "4  https://www.zomato.com/bangalore/grand-village...   \n",
       "\n",
       "                                             address                   name  \\\n",
       "0  942, 21st Main Road, 2nd Stage, Banashankari, ...                  Jalsa   \n",
       "1  2nd Floor, 80 Feet Road, Near Big Bazaar, 6th ...         Spice Elephant   \n",
       "2  1112, Next to KIMS Medical College, 17th Cross...        San Churro Cafe   \n",
       "3  1st Floor, Annakuteera, 3rd Stage, Banashankar...  Addhuri Udupi Bhojana   \n",
       "4  10, 3rd Floor, Lakshmi Associates, Gandhi Baza...          Grand Village   \n",
       "\n",
       "  online_order book_table   rate  votes                             phone  \\\n",
       "0          Yes        Yes  4.1/5    775    080 42297555\\r\\n+91 9743772233   \n",
       "1          Yes         No  4.1/5    787                      080 41714161   \n",
       "2          Yes         No  3.8/5    918                    +91 9663487993   \n",
       "3           No         No  3.7/5     88                    +91 9620009302   \n",
       "4           No         No  3.8/5    166  +91 8026612447\\r\\n+91 9901210005   \n",
       "\n",
       "       location            rest_type  \\\n",
       "0  Banashankari        Casual Dining   \n",
       "1  Banashankari        Casual Dining   \n",
       "2  Banashankari  Cafe, Casual Dining   \n",
       "3  Banashankari          Quick Bites   \n",
       "4  Basavanagudi        Casual Dining   \n",
       "\n",
       "                                          dish_liked  \\\n",
       "0  Pasta, Lunch Buffet, Masala Papad, Paneer Laja...   \n",
       "1  Momos, Lunch Buffet, Chocolate Nirvana, Thai G...   \n",
       "2  Churros, Cannelloni, Minestrone Soup, Hot Choc...   \n",
       "3                                        Masala Dosa   \n",
       "4                                Panipuri, Gol Gappe   \n",
       "\n",
       "                         cuisines approx_cost(for two people)  \\\n",
       "0  North Indian, Mughlai, Chinese                         800   \n",
       "1     Chinese, North Indian, Thai                         800   \n",
       "2          Cafe, Mexican, Italian                         800   \n",
       "3      South Indian, North Indian                         300   \n",
       "4        North Indian, Rajasthani                         600   \n",
       "\n",
       "                                        reviews_list menu_item  \\\n",
       "0  [('Rated 4.0', 'RATED\\n  A beautiful place to ...        []   \n",
       "1  [('Rated 4.0', 'RATED\\n  Had been here for din...        []   \n",
       "2  [('Rated 3.0', \"RATED\\n  Ambience is not that ...        []   \n",
       "3  [('Rated 4.0', \"RATED\\n  Great food and proper...        []   \n",
       "4  [('Rated 4.0', 'RATED\\n  Very good restaurant ...        []   \n",
       "\n",
       "  listed_in(type) listed_in(city)  \n",
       "0          Buffet    Banashankari  \n",
       "1          Buffet    Banashankari  \n",
       "2          Buffet    Banashankari  \n",
       "3          Buffet    Banashankari  \n",
       "4          Buffet    Banashankari  "
      ]
     },
     "execution_count": 3,
     "metadata": {},
     "output_type": "execute_result"
    }
   ],
   "source": [
    "data.head()"
   ]
  },
  {
   "cell_type": "code",
   "execution_count": 4,
   "id": "unusual-quest",
   "metadata": {},
   "outputs": [
    {
     "data": {
      "text/plain": [
       "(51717, 17)"
      ]
     },
     "execution_count": 4,
     "metadata": {},
     "output_type": "execute_result"
    }
   ],
   "source": [
    "data.shape"
   ]
  },
  {
   "cell_type": "code",
   "execution_count": 5,
   "id": "compact-native",
   "metadata": {},
   "outputs": [
    {
     "data": {
      "text/plain": [
       "Index(['url', 'address', 'name', 'online_order', 'book_table', 'rate', 'votes',\n",
       "       'phone', 'location', 'rest_type', 'dish_liked', 'cuisines',\n",
       "       'approx_cost(for two people)', 'reviews_list', 'menu_item',\n",
       "       'listed_in(type)', 'listed_in(city)'],\n",
       "      dtype='object')"
      ]
     },
     "execution_count": 5,
     "metadata": {},
     "output_type": "execute_result"
    }
   ],
   "source": [
    "data.columns"
   ]
  },
  {
   "cell_type": "code",
   "execution_count": 6,
   "id": "vital-queen",
   "metadata": {},
   "outputs": [
    {
     "name": "stdout",
     "output_type": "stream",
     "text": [
      "<class 'pandas.core.frame.DataFrame'>\n",
      "RangeIndex: 51717 entries, 0 to 51716\n",
      "Data columns (total 17 columns):\n",
      " #   Column                       Non-Null Count  Dtype \n",
      "---  ------                       --------------  ----- \n",
      " 0   url                          51717 non-null  object\n",
      " 1   address                      51717 non-null  object\n",
      " 2   name                         51717 non-null  object\n",
      " 3   online_order                 51717 non-null  object\n",
      " 4   book_table                   51717 non-null  object\n",
      " 5   rate                         43942 non-null  object\n",
      " 6   votes                        51717 non-null  int64 \n",
      " 7   phone                        50509 non-null  object\n",
      " 8   location                     51696 non-null  object\n",
      " 9   rest_type                    51490 non-null  object\n",
      " 10  dish_liked                   23639 non-null  object\n",
      " 11  cuisines                     51672 non-null  object\n",
      " 12  approx_cost(for two people)  51371 non-null  object\n",
      " 13  reviews_list                 51717 non-null  object\n",
      " 14  menu_item                    51717 non-null  object\n",
      " 15  listed_in(type)              51717 non-null  object\n",
      " 16  listed_in(city)              51717 non-null  object\n",
      "dtypes: int64(1), object(16)\n",
      "memory usage: 6.7+ MB\n"
     ]
    }
   ],
   "source": [
    "data.info()"
   ]
  },
  {
   "cell_type": "code",
   "execution_count": 7,
   "id": "considerable-rendering",
   "metadata": {},
   "outputs": [],
   "source": [
    "## Delete unecessary columns\n",
    "\n",
    "del data['url']\n",
    "del data['phone']\n",
    "del data['address']\n",
    "del data['location']"
   ]
  },
  {
   "cell_type": "code",
   "execution_count": 8,
   "id": "unknown-punch",
   "metadata": {},
   "outputs": [
    {
     "data": {
      "text/html": [
       "<div>\n",
       "<style scoped>\n",
       "    .dataframe tbody tr th:only-of-type {\n",
       "        vertical-align: middle;\n",
       "    }\n",
       "\n",
       "    .dataframe tbody tr th {\n",
       "        vertical-align: top;\n",
       "    }\n",
       "\n",
       "    .dataframe thead th {\n",
       "        text-align: right;\n",
       "    }\n",
       "</style>\n",
       "<table border=\"1\" class=\"dataframe\">\n",
       "  <thead>\n",
       "    <tr style=\"text-align: right;\">\n",
       "      <th></th>\n",
       "      <th>name</th>\n",
       "      <th>online_order</th>\n",
       "      <th>book_table</th>\n",
       "      <th>rate</th>\n",
       "      <th>votes</th>\n",
       "      <th>rest_type</th>\n",
       "      <th>dish_liked</th>\n",
       "      <th>cuisines</th>\n",
       "      <th>approx_cost(for two people)</th>\n",
       "      <th>reviews_list</th>\n",
       "      <th>menu_item</th>\n",
       "      <th>listed_in(type)</th>\n",
       "      <th>listed_in(city)</th>\n",
       "    </tr>\n",
       "  </thead>\n",
       "  <tbody>\n",
       "    <tr>\n",
       "      <th>0</th>\n",
       "      <td>Jalsa</td>\n",
       "      <td>Yes</td>\n",
       "      <td>Yes</td>\n",
       "      <td>4.1/5</td>\n",
       "      <td>775</td>\n",
       "      <td>Casual Dining</td>\n",
       "      <td>Pasta, Lunch Buffet, Masala Papad, Paneer Laja...</td>\n",
       "      <td>North Indian, Mughlai, Chinese</td>\n",
       "      <td>800</td>\n",
       "      <td>[('Rated 4.0', 'RATED\\n  A beautiful place to ...</td>\n",
       "      <td>[]</td>\n",
       "      <td>Buffet</td>\n",
       "      <td>Banashankari</td>\n",
       "    </tr>\n",
       "    <tr>\n",
       "      <th>1</th>\n",
       "      <td>Spice Elephant</td>\n",
       "      <td>Yes</td>\n",
       "      <td>No</td>\n",
       "      <td>4.1/5</td>\n",
       "      <td>787</td>\n",
       "      <td>Casual Dining</td>\n",
       "      <td>Momos, Lunch Buffet, Chocolate Nirvana, Thai G...</td>\n",
       "      <td>Chinese, North Indian, Thai</td>\n",
       "      <td>800</td>\n",
       "      <td>[('Rated 4.0', 'RATED\\n  Had been here for din...</td>\n",
       "      <td>[]</td>\n",
       "      <td>Buffet</td>\n",
       "      <td>Banashankari</td>\n",
       "    </tr>\n",
       "  </tbody>\n",
       "</table>\n",
       "</div>"
      ],
      "text/plain": [
       "             name online_order book_table   rate  votes      rest_type  \\\n",
       "0           Jalsa          Yes        Yes  4.1/5    775  Casual Dining   \n",
       "1  Spice Elephant          Yes         No  4.1/5    787  Casual Dining   \n",
       "\n",
       "                                          dish_liked  \\\n",
       "0  Pasta, Lunch Buffet, Masala Papad, Paneer Laja...   \n",
       "1  Momos, Lunch Buffet, Chocolate Nirvana, Thai G...   \n",
       "\n",
       "                         cuisines approx_cost(for two people)  \\\n",
       "0  North Indian, Mughlai, Chinese                         800   \n",
       "1     Chinese, North Indian, Thai                         800   \n",
       "\n",
       "                                        reviews_list menu_item  \\\n",
       "0  [('Rated 4.0', 'RATED\\n  A beautiful place to ...        []   \n",
       "1  [('Rated 4.0', 'RATED\\n  Had been here for din...        []   \n",
       "\n",
       "  listed_in(type) listed_in(city)  \n",
       "0          Buffet    Banashankari  \n",
       "1          Buffet    Banashankari  "
      ]
     },
     "execution_count": 8,
     "metadata": {},
     "output_type": "execute_result"
    }
   ],
   "source": [
    "data.head(2)"
   ]
  },
  {
   "cell_type": "code",
   "execution_count": 9,
   "id": "configured-bosnia",
   "metadata": {},
   "outputs": [
    {
     "data": {
      "text/plain": [
       "name                               0\n",
       "online_order                       0\n",
       "book_table                         0\n",
       "rate                            7775\n",
       "votes                              0\n",
       "rest_type                        227\n",
       "dish_liked                     28078\n",
       "cuisines                          45\n",
       "approx_cost(for two people)      346\n",
       "reviews_list                       0\n",
       "menu_item                          0\n",
       "listed_in(type)                    0\n",
       "listed_in(city)                    0\n",
       "dtype: int64"
      ]
     },
     "execution_count": 9,
     "metadata": {},
     "output_type": "execute_result"
    }
   ],
   "source": [
    "data.isnull().sum()"
   ]
  },
  {
   "cell_type": "code",
   "execution_count": 10,
   "id": "other-context",
   "metadata": {},
   "outputs": [],
   "source": [
    "data['rate'] = data['rate'].replace('NEW',np.NaN)\n",
    "data['rate'] = data['rate'].replace('-',np.NaN)"
   ]
  },
  {
   "cell_type": "code",
   "execution_count": 11,
   "id": "talented-significance",
   "metadata": {},
   "outputs": [],
   "source": [
    "data=data.rename(columns={'approx_cost(for two people)':'cost','listed_in(type)':'type',\n",
    "                         'listed_in(city)':'city'})"
   ]
  },
  {
   "cell_type": "code",
   "execution_count": 12,
   "id": "miniature-coverage",
   "metadata": {},
   "outputs": [],
   "source": [
    "X=data.copy()"
   ]
  },
  {
   "cell_type": "code",
   "execution_count": 13,
   "id": "powerful-money",
   "metadata": {},
   "outputs": [],
   "source": [
    "X.online_order = X.online_order.apply(lambda x: '1' if str(x)=='Yes' else '0')\n",
    "X.book_table = X.book_table.apply(lambda x: 1 if str(x)=='Yes' else '0')"
   ]
  },
  {
   "cell_type": "code",
   "execution_count": 14,
   "id": "general-comedy",
   "metadata": {},
   "outputs": [
    {
     "data": {
      "text/plain": [
       "name            object\n",
       "online_order    object\n",
       "book_table      object\n",
       "rate            object\n",
       "votes            int64\n",
       "rest_type       object\n",
       "dish_liked      object\n",
       "cuisines        object\n",
       "cost            object\n",
       "reviews_list    object\n",
       "menu_item       object\n",
       "type            object\n",
       "city            object\n",
       "dtype: object"
      ]
     },
     "execution_count": 14,
     "metadata": {},
     "output_type": "execute_result"
    }
   ],
   "source": [
    "X.dtypes"
   ]
  },
  {
   "cell_type": "code",
   "execution_count": 15,
   "id": "british-scope",
   "metadata": {},
   "outputs": [
    {
     "data": {
      "text/plain": [
       "dtype('O')"
      ]
     },
     "execution_count": 15,
     "metadata": {},
     "output_type": "execute_result"
    }
   ],
   "source": [
    "X.rate.dtype"
   ]
  },
  {
   "cell_type": "code",
   "execution_count": 16,
   "id": "swiss-puzzle",
   "metadata": {},
   "outputs": [],
   "source": [
    "X.rate = X.rate.astype(str)\n",
    "X.rate = X.rate.apply(lambda x: x.replace('/5',''))\n",
    "X.rate = X.rate.astype(float)"
   ]
  },
  {
   "cell_type": "code",
   "execution_count": 17,
   "id": "intellectual-campus",
   "metadata": {},
   "outputs": [
    {
     "data": {
      "text/plain": [
       "dtype('float64')"
      ]
     },
     "execution_count": 17,
     "metadata": {},
     "output_type": "execute_result"
    }
   ],
   "source": [
    "X.rate.dtype"
   ]
  },
  {
   "cell_type": "code",
   "execution_count": 18,
   "id": "conscious-setting",
   "metadata": {},
   "outputs": [
    {
     "data": {
      "text/plain": [
       "dtype('O')"
      ]
     },
     "execution_count": 18,
     "metadata": {},
     "output_type": "execute_result"
    }
   ],
   "source": [
    "X.cost.dtype"
   ]
  },
  {
   "cell_type": "code",
   "execution_count": 19,
   "id": "alone-filter",
   "metadata": {},
   "outputs": [],
   "source": [
    "X.cost=X.cost.astype(str)\n",
    "X.cost=X.cost.apply(lambda y : y.replace(',',''))\n",
    "X.cost=X.cost.astype(float)"
   ]
  },
  {
   "cell_type": "code",
   "execution_count": 20,
   "id": "opposed-classification",
   "metadata": {},
   "outputs": [
    {
     "data": {
      "text/plain": [
       "dtype('float64')"
      ]
     },
     "execution_count": 20,
     "metadata": {},
     "output_type": "execute_result"
    }
   ],
   "source": [
    "X.cost.dtype"
   ]
  },
  {
   "cell_type": "code",
   "execution_count": 21,
   "id": "elegant-newton",
   "metadata": {},
   "outputs": [],
   "source": [
    "X.online_order=X.online_order.astype(float)\n",
    "X.book_table=X.book_table.astype(float)\n",
    "X.votes=X.votes.astype(float)"
   ]
  },
  {
   "cell_type": "code",
   "execution_count": 22,
   "id": "advance-prescription",
   "metadata": {},
   "outputs": [
    {
     "name": "stdout",
     "output_type": "stream",
     "text": [
      "<class 'pandas.core.frame.DataFrame'>\n",
      "RangeIndex: 51717 entries, 0 to 51716\n",
      "Data columns (total 13 columns):\n",
      " #   Column        Non-Null Count  Dtype  \n",
      "---  ------        --------------  -----  \n",
      " 0   name          51717 non-null  object \n",
      " 1   online_order  51717 non-null  float64\n",
      " 2   book_table    51717 non-null  float64\n",
      " 3   rate          41665 non-null  float64\n",
      " 4   votes         51717 non-null  float64\n",
      " 5   rest_type     51490 non-null  object \n",
      " 6   dish_liked    23639 non-null  object \n",
      " 7   cuisines      51672 non-null  object \n",
      " 8   cost          51371 non-null  float64\n",
      " 9   reviews_list  51717 non-null  object \n",
      " 10  menu_item     51717 non-null  object \n",
      " 11  type          51717 non-null  object \n",
      " 12  city          51717 non-null  object \n",
      "dtypes: float64(5), object(8)\n",
      "memory usage: 5.1+ MB\n"
     ]
    }
   ],
   "source": [
    "X.info()"
   ]
  },
  {
   "cell_type": "code",
   "execution_count": 23,
   "id": "clinical-neutral",
   "metadata": {},
   "outputs": [
    {
     "data": {
      "text/plain": [
       "name                0\n",
       "online_order        0\n",
       "book_table          0\n",
       "rate            10052\n",
       "votes               0\n",
       "rest_type         227\n",
       "dish_liked      28078\n",
       "cuisines           45\n",
       "cost              346\n",
       "reviews_list        0\n",
       "menu_item           0\n",
       "type                0\n",
       "city                0\n",
       "dtype: int64"
      ]
     },
     "execution_count": 23,
     "metadata": {},
     "output_type": "execute_result"
    }
   ],
   "source": [
    "X.isnull().sum()"
   ]
  },
  {
   "cell_type": "code",
   "execution_count": 24,
   "id": "neither-equivalent",
   "metadata": {},
   "outputs": [],
   "source": [
    "X_del=X.copy()\n",
    "X_del.dropna(how='any',inplace=True)"
   ]
  },
  {
   "cell_type": "code",
   "execution_count": 25,
   "id": "sophisticated-reduction",
   "metadata": {},
   "outputs": [
    {
     "data": {
      "text/plain": [
       "name            0\n",
       "online_order    0\n",
       "book_table      0\n",
       "rate            0\n",
       "votes           0\n",
       "rest_type       0\n",
       "dish_liked      0\n",
       "cuisines        0\n",
       "cost            0\n",
       "reviews_list    0\n",
       "menu_item       0\n",
       "type            0\n",
       "city            0\n",
       "dtype: int64"
      ]
     },
     "execution_count": 25,
     "metadata": {},
     "output_type": "execute_result"
    }
   ],
   "source": [
    "X_del.isnull().sum()"
   ]
  },
  {
   "cell_type": "code",
   "execution_count": 26,
   "id": "certified-color",
   "metadata": {},
   "outputs": [
    {
     "data": {
      "text/plain": [
       "(23259, 13)"
      ]
     },
     "execution_count": 26,
     "metadata": {},
     "output_type": "execute_result"
    }
   ],
   "source": [
    "X_del.shape"
   ]
  },
  {
   "cell_type": "code",
   "execution_count": 27,
   "id": "analyzed-shuttle",
   "metadata": {},
   "outputs": [],
   "source": [
    "X_del.drop_duplicates(keep='first',inplace=True)"
   ]
  },
  {
   "cell_type": "code",
   "execution_count": 28,
   "id": "nutritional-metropolitan",
   "metadata": {},
   "outputs": [
    {
     "name": "stderr",
     "output_type": "stream",
     "text": [
      "E:\\Users\\Rony\\anaconda3\\lib\\site-packages\\seaborn\\_decorators.py:36: FutureWarning: Pass the following variable as a keyword arg: x. From version 0.12, the only valid positional argument will be `data`, and passing other arguments without an explicit keyword will result in an error or misinterpretation.\n",
      "  warnings.warn(\n"
     ]
    },
    {
     "ename": "NameError",
     "evalue": "name 'fig' is not defined",
     "output_type": "error",
     "traceback": [
      "\u001b[1;31m---------------------------------------------------------------------------\u001b[0m",
      "\u001b[1;31mNameError\u001b[0m                                 Traceback (most recent call last)",
      "\u001b[1;32m<ipython-input-28-bbbf06171df4>\u001b[0m in \u001b[0;36m<module>\u001b[1;34m\u001b[0m\n\u001b[0;32m      1\u001b[0m \u001b[0msns\u001b[0m\u001b[1;33m.\u001b[0m\u001b[0mcountplot\u001b[0m\u001b[1;33m(\u001b[0m\u001b[0mX_del\u001b[0m\u001b[1;33m[\u001b[0m\u001b[1;34m'online_order'\u001b[0m\u001b[1;33m]\u001b[0m\u001b[1;33m)\u001b[0m\u001b[1;33m\u001b[0m\u001b[1;33m\u001b[0m\u001b[0m\n\u001b[1;32m----> 2\u001b[1;33m \u001b[0mfig\u001b[0m\u001b[1;33m.\u001b[0m\u001b[0mset_size_inches\u001b[0m\u001b[1;33m(\u001b[0m\u001b[1;36m10\u001b[0m\u001b[1;33m,\u001b[0m\u001b[1;36m10\u001b[0m\u001b[1;33m)\u001b[0m\u001b[1;33m\u001b[0m\u001b[1;33m\u001b[0m\u001b[0m\n\u001b[0m\u001b[0;32m      3\u001b[0m \u001b[0mplt\u001b[0m\u001b[1;33m.\u001b[0m\u001b[0mtitle\u001b[0m\u001b[1;33m(\u001b[0m\u001b[1;34m'Restaurants delivering online or Not'\u001b[0m\u001b[1;33m)\u001b[0m\u001b[1;33m\u001b[0m\u001b[1;33m\u001b[0m\u001b[0m\n",
      "\u001b[1;31mNameError\u001b[0m: name 'fig' is not defined"
     ]
    },
    {
     "data": {
      "image/png": "[encoded data removed]",
      "text/plain": [
       "<Figure size 432x288 with 1 Axes>"
      ]
     },
     "metadata": {
      "needs_background": "light"
     },
     "output_type": "display_data"
    }
   ],
   "source": [
    "sns.countplot(X_del['online_order'])\n",
    "fig.set_size_inches(10,10)\n",
    "plt.title('Restaurants delivering online or Not')"
   ]
  },
  {
   "cell_type": "code",
   "execution_count": 29,
   "id": "developing-performer",
   "metadata": {},
   "outputs": [
    {
     "name": "stderr",
     "output_type": "stream",
     "text": [
      "E:\\Users\\Rony\\anaconda3\\lib\\site-packages\\seaborn\\_decorators.py:36: FutureWarning: Pass the following variable as a keyword arg: x. From version 0.12, the only valid positional argument will be `data`, and passing other arguments without an explicit keyword will result in an error or misinterpretation.\n",
      "  warnings.warn(\n"
     ]
    },
    {
     "data": {
      "text/plain": [
       "Text(0.5, 1.0, 'Restaurants delivering online or Not')"
      ]
     },
     "execution_count": 29,
     "metadata": {},
     "output_type": "execute_result"
    },
    {
     "data": {
      "image/png": "[encoded data removed]",
      "text/plain": [
       "<Figure size 720x720 with 1 Axes>"
      ]
     },
     "metadata": {
      "needs_background": "light"
     },
     "output_type": "display_data"
    }
   ],
   "source": [
    "sns.countplot(X_del['online_order'])\n",
    "fig = plt.gcf()\n",
    "fig.set_size_inches(10,10)\n",
    "plt.title('Restaurants delivering online or Not')"
   ]
  },
  {
   "cell_type": "code",
   "execution_count": 30,
   "id": "dangerous-ceiling",
   "metadata": {},
   "outputs": [
    {
     "name": "stderr",
     "output_type": "stream",
     "text": [
      "E:\\Users\\Rony\\anaconda3\\lib\\site-packages\\seaborn\\_decorators.py:36: FutureWarning: Pass the following variable as a keyword arg: x. From version 0.12, the only valid positional argument will be `data`, and passing other arguments without an explicit keyword will result in an error or misinterpretation.\n",
      "  warnings.warn(\n",
      "E:\\Users\\Rony\\anaconda3\\lib\\site-packages\\seaborn\\_decorators.py:36: FutureWarning: Pass the following variable as a keyword arg: x. From version 0.12, the only valid positional argument will be `data`, and passing other arguments without an explicit keyword will result in an error or misinterpretation.\n",
      "  warnings.warn(\n",
      "E:\\Users\\Rony\\anaconda3\\lib\\site-packages\\seaborn\\_decorators.py:36: FutureWarning: Pass the following variable as a keyword arg: x. From version 0.12, the only valid positional argument will be `data`, and passing other arguments without an explicit keyword will result in an error or misinterpretation.\n",
      "  warnings.warn(\n"
     ]
    },
    {
     "data": {
      "text/plain": [
       "Text(0.5, 1.0, 'Location')"
      ]
     },
     "execution_count": 30,
     "metadata": {},
     "output_type": "execute_result"
    },
    {
     "data": {
      "image/png": "[encoded data removed]",
      "text/plain": [
       "<Figure size 432x288 with 1 Axes>"
      ]
     },
     "metadata": {
      "needs_background": "light"
     },
     "output_type": "display_data"
    }
   ],
   "source": [
    "sns.countplot(X_del['city'])\n",
    "sns.countplot(X_del['city']).set_xticklabels(sns.countplot(X_del['city']).get_xticklabels(), rotation=90, ha=\"right\")\n",
    "fig.set_size_inches(15,15)\n",
    "plt.title('Location')"
   ]
  },
  {
   "cell_type": "code",
   "execution_count": 31,
   "id": "refined-malta",
   "metadata": {},
   "outputs": [
    {
     "data": {
      "image/png": "[encoded data removed]",
      "text/plain": [
       "<Figure size 1080x648 with 1 Axes>"
      ]
     },
     "metadata": {
      "needs_background": "light"
     },
     "output_type": "display_data"
    }
   ],
   "source": [
    "plt.rcParams['figure.figsize'] = (15, 9)\n",
    "x = pd.crosstab(X_del['rate'], X_del['online_order'])\n",
    "x.div(x.sum(1).astype(float), axis = 0).plot(kind = 'bar', stacked = True,color=['red','yellow'])\n",
    "plt.title('online order vs rate', fontweight = 30, fontsize = 20)\n",
    "plt.legend(loc=\"upper right\")\n",
    "plt.show()"
   ]
  },
  {
   "cell_type": "code",
   "execution_count": 32,
   "id": "tough-penalty",
   "metadata": {},
   "outputs": [
    {
     "data": {
      "image/png": "[encoded data removed]",
      "text/plain": [
       "<Figure size 1080x648 with 1 Axes>"
      ]
     },
     "metadata": {
      "needs_background": "light"
     },
     "output_type": "display_data"
    }
   ],
   "source": [
    "plt.rcParams['figure.figsize'] = (15, 9)\n",
    "y = pd.crosstab(X_del['rate'], X_del['book_table'])\n",
    "x.div(x.sum(1).astype(float), axis = 0).plot(kind = 'bar', stacked = True,color=['red','yellow'])\n",
    "plt.title('table booking vs rate', fontweight = 30, fontsize = 20)\n",
    "plt.legend(loc=\"upper right\")\n",
    "plt.show()"
   ]
  },
  {
   "cell_type": "code",
   "execution_count": 33,
   "id": "timely-grenada",
   "metadata": {},
   "outputs": [
    {
     "data": {
      "image/png": "[encoded data removed]",
      "text/plain": [
       "<Figure size 1080x648 with 1 Axes>"
      ]
     },
     "metadata": {
      "needs_background": "light"
     },
     "output_type": "display_data"
    }
   ],
   "source": [
    "plt.rcParams['figure.figsize'] = (15, 9)\n",
    "y = pd.crosstab(X_del['rate'], X_del['book_table'])\n",
    "y.div(y.sum(1).astype(float), axis = 0).plot(kind = 'bar', stacked = True,color=['red','yellow'])\n",
    "plt.title('table booking vs rate', fontweight = 30, fontsize = 20)\n",
    "plt.legend(loc=\"upper right\")\n",
    "plt.show()"
   ]
  },
  {
   "cell_type": "code",
   "execution_count": 34,
   "id": "sticky-fence",
   "metadata": {},
   "outputs": [
    {
     "name": "stderr",
     "output_type": "stream",
     "text": [
      "E:\\Users\\Rony\\anaconda3\\lib\\site-packages\\seaborn\\_decorators.py:36: FutureWarning: Pass the following variable as a keyword arg: x. From version 0.12, the only valid positional argument will be `data`, and passing other arguments without an explicit keyword will result in an error or misinterpretation.\n",
      "  warnings.warn(\n"
     ]
    },
    {
     "data": {
      "text/plain": [
       "Text(0.5, 1.0, 'Restuarant Type')"
      ]
     },
     "execution_count": 34,
     "metadata": {},
     "output_type": "execute_result"
    },
    {
     "data": {
      "image/png": "[encoded data removed]",
      "text/plain": [
       "<Figure size 1080x1080 with 1 Axes>"
      ]
     },
     "metadata": {
      "needs_background": "light"
     },
     "output_type": "display_data"
    }
   ],
   "source": [
    "sns.countplot(X_del['rest_type'])\n",
    "fig = plt.gcf()\n",
    "fig.set_size_inches(15,15)\n",
    "plt.title('Restuarant Type')"
   ]
  },
  {
   "cell_type": "code",
   "execution_count": 35,
   "id": "nuclear-potter",
   "metadata": {},
   "outputs": [
    {
     "name": "stderr",
     "output_type": "stream",
     "text": [
      "E:\\Users\\Rony\\anaconda3\\lib\\site-packages\\seaborn\\_decorators.py:36: FutureWarning: Pass the following variable as a keyword arg: x. From version 0.12, the only valid positional argument will be `data`, and passing other arguments without an explicit keyword will result in an error or misinterpretation.\n",
      "  warnings.warn(\n",
      "E:\\Users\\Rony\\anaconda3\\lib\\site-packages\\seaborn\\_decorators.py:36: FutureWarning: Pass the following variable as a keyword arg: x. From version 0.12, the only valid positional argument will be `data`, and passing other arguments without an explicit keyword will result in an error or misinterpretation.\n",
      "  warnings.warn(\n",
      "E:\\Users\\Rony\\anaconda3\\lib\\site-packages\\seaborn\\_decorators.py:36: FutureWarning: Pass the following variable as a keyword arg: x. From version 0.12, the only valid positional argument will be `data`, and passing other arguments without an explicit keyword will result in an error or misinterpretation.\n",
      "  warnings.warn(\n"
     ]
    },
    {
     "data": {
      "text/plain": [
       "Text(0.5, 1.0, 'Restuarant Type')"
      ]
     },
     "execution_count": 35,
     "metadata": {},
     "output_type": "execute_result"
    },
    {
     "data": {
      "image/png": "[encoded data removed]",
      "text/plain": [
       "<Figure size 1080x1080 with 1 Axes>"
      ]
     },
     "metadata": {
      "needs_background": "light"
     },
     "output_type": "display_data"
    }
   ],
   "source": [
    "sns.countplot(X_del['rest_type'])\n",
    "sns.countplot(X_del['rest_type']).set_xticklabels(sns.countplot(X_del['rest_type']).get_xticklabels(), rotation=90, ha=\"right\")\n",
    "fig = plt.gcf()\n",
    "fig.set_size_inches(15,15)\n",
    "plt.title('Restuarant Type')"
   ]
  },
  {
   "cell_type": "code",
   "execution_count": 36,
   "id": "graduate-colombia",
   "metadata": {},
   "outputs": [
    {
     "name": "stderr",
     "output_type": "stream",
     "text": [
      "E:\\Users\\Rony\\anaconda3\\lib\\site-packages\\seaborn\\_decorators.py:36: FutureWarning: Pass the following variable as a keyword arg: x. From version 0.12, the only valid positional argument will be `data`, and passing other arguments without an explicit keyword will result in an error or misinterpretation.\n",
      "  warnings.warn(\n"
     ]
    },
    {
     "data": {
      "text/plain": [
       "<AxesSubplot:xlabel='type', ylabel='count'>"
      ]
     },
     "execution_count": 36,
     "metadata": {},
     "output_type": "execute_result"
    },
    {
     "data": {
      "image/png": "[encoded data removed]",
      "text/plain": [
       "<Figure size 1080x648 with 1 Axes>"
      ]
     },
     "metadata": {
      "needs_background": "light"
     },
     "output_type": "display_data"
    }
   ],
   "source": [
    "sns.countplot(X_del['type'])"
   ]
  },
  {
   "cell_type": "code",
   "execution_count": 37,
   "id": "centered-illinois",
   "metadata": {},
   "outputs": [
    {
     "name": "stderr",
     "output_type": "stream",
     "text": [
      "E:\\Users\\Rony\\anaconda3\\lib\\site-packages\\seaborn\\_decorators.py:36: FutureWarning: Pass the following variable as a keyword arg: x. From version 0.12, the only valid positional argument will be `data`, and passing other arguments without an explicit keyword will result in an error or misinterpretation.\n",
      "  warnings.warn(\n",
      "E:\\Users\\Rony\\anaconda3\\lib\\site-packages\\seaborn\\_decorators.py:36: FutureWarning: Pass the following variable as a keyword arg: x. From version 0.12, the only valid positional argument will be `data`, and passing other arguments without an explicit keyword will result in an error or misinterpretation.\n",
      "  warnings.warn(\n",
      "E:\\Users\\Rony\\anaconda3\\lib\\site-packages\\seaborn\\_decorators.py:36: FutureWarning: Pass the following variable as a keyword arg: x. From version 0.12, the only valid positional argument will be `data`, and passing other arguments without an explicit keyword will result in an error or misinterpretation.\n",
      "  warnings.warn(\n"
     ]
    },
    {
     "data": {
      "text/plain": [
       "Text(0.5, 1.0, 'Cost of Restuarant')"
      ]
     },
     "execution_count": 37,
     "metadata": {},
     "output_type": "execute_result"
    },
    {
     "data": {
      "image/png": "[encoded data removed]",
      "text/plain": [
       "<Figure size 1080x1080 with 1 Axes>"
      ]
     },
     "metadata": {
      "needs_background": "light"
     },
     "output_type": "display_data"
    }
   ],
   "source": [
    "sns.countplot(X_del['cost'])\n",
    "sns.countplot(X_del['cost']).set_xticklabels(sns.countplot(X_del['cost']).get_xticklabels(), rotation=90, ha=\"right\")\n",
    "fig = plt.gcf()\n",
    "fig.set_size_inches(15,15)\n",
    "plt.title('Cost of Restuarant')"
   ]
  },
  {
   "cell_type": "code",
   "execution_count": 53,
   "id": "fourth-consumption",
   "metadata": {},
   "outputs": [],
   "source": [
    "Y=X_del.copy()"
   ]
  },
  {
   "cell_type": "code",
   "execution_count": 54,
   "id": "electoral-format",
   "metadata": {},
   "outputs": [],
   "source": [
    "dummy_rest_type=pd.get_dummies(Y['rest_type'])\n",
    "dummy_type=pd.get_dummies(Y['type'])\n",
    "dummy_city=pd.get_dummies(Y['city'])\n",
    "dummy_cuisines=pd.get_dummies(Y['cuisines'])\n",
    "dummy_dishliked=pd.get_dummies(Y['dish_liked'])\n",
    "#dummy_reviewslist=pd.get_dummies(Y['reviews_list']) #Too much memory allocation"
   ]
  },
  {
   "cell_type": "code",
   "execution_count": 55,
   "id": "metric-devices",
   "metadata": {},
   "outputs": [],
   "source": [
    "Y=pd.concat([Y,dummy_rest_type,dummy_type,dummy_city,dummy_cuisines,dummy_dishliked,#dummy_reviewslist\n",
    "            ],axis=1)"
   ]
  },
  {
   "cell_type": "code",
   "execution_count": 56,
   "id": "incorporated-moment",
   "metadata": {},
   "outputs": [],
   "source": [
    "del Y['rest_type']\n",
    "del Y['type']\n",
    "del Y['city']\n",
    "del Y['cuisines']\n",
    "del Y['dish_liked']\n",
    "#del Y['reviews_list']"
   ]
  },
  {
   "cell_type": "code",
   "execution_count": 57,
   "id": "dressed-veteran",
   "metadata": {
    "scrolled": true
   },
   "outputs": [
    {
     "data": {
      "text/html": [
       "<div>\n",
       "<style scoped>\n",
       "    .dataframe tbody tr th:only-of-type {\n",
       "        vertical-align: middle;\n",
       "    }\n",
       "\n",
       "    .dataframe tbody tr th {\n",
       "        vertical-align: top;\n",
       "    }\n",
       "\n",
       "    .dataframe thead th {\n",
       "        text-align: right;\n",
       "    }\n",
       "</style>\n",
       "<table border=\"1\" class=\"dataframe\">\n",
       "  <thead>\n",
       "    <tr style=\"text-align: right;\">\n",
       "      <th></th>\n",
       "      <th>name</th>\n",
       "      <th>online_order</th>\n",
       "      <th>book_table</th>\n",
       "      <th>rate</th>\n",
       "      <th>votes</th>\n",
       "      <th>cost</th>\n",
       "      <th>reviews_list</th>\n",
       "      <th>menu_item</th>\n",
       "      <th>Bakery</th>\n",
       "      <th>Bakery, Cafe</th>\n",
       "      <th>...</th>\n",
       "      <th>Wings, Lime Soda, Manchow Soup, Biryani, Fried Rice, Chop Suey, Tandoori Roti</th>\n",
       "      <th>Wings, Pizza</th>\n",
       "      <th>Wonton, American Chopsuey</th>\n",
       "      <th>Wood Fire Pizza</th>\n",
       "      <th>Wood Fire Pizza, Cocktails, Ferrero Rocher Shake, Falafel, Peri Peri Chicken, Pasta, Mocktails</th>\n",
       "      <th>Wood Fire Pizza, Cocktails, Ferrero Rocher Shake, Falafel, Peri Peri Chicken, Pasta, Nachos</th>\n",
       "      <th>Zinger Burger, Burgers, Popcorn Chicken</th>\n",
       "      <th>Zinger Burger, Crispy Chicken, Rice Bowl, Hot Wings, Pizza, Chicken Popcorn, Virgin Mojito</th>\n",
       "      <th>Zinger Burger, French Fries, Choco Lash, Hot Wings, Virgin Mojito</th>\n",
       "      <th>Zinger Burger, Hot Wings, Chicken Wings, Crispy Chicken, Fries</th>\n",
       "    </tr>\n",
       "  </thead>\n",
       "  <tbody>\n",
       "    <tr>\n",
       "      <th>0</th>\n",
       "      <td>Jalsa</td>\n",
       "      <td>1.0</td>\n",
       "      <td>1.0</td>\n",
       "      <td>4.1</td>\n",
       "      <td>775.0</td>\n",
       "      <td>800.0</td>\n",
       "      <td>[('Rated 4.0', 'RATED\\n  A beautiful place to ...</td>\n",
       "      <td>[]</td>\n",
       "      <td>0</td>\n",
       "      <td>0</td>\n",
       "      <td>...</td>\n",
       "      <td>0</td>\n",
       "      <td>0</td>\n",
       "      <td>0</td>\n",
       "      <td>0</td>\n",
       "      <td>0</td>\n",
       "      <td>0</td>\n",
       "      <td>0</td>\n",
       "      <td>0</td>\n",
       "      <td>0</td>\n",
       "      <td>0</td>\n",
       "    </tr>\n",
       "    <tr>\n",
       "      <th>1</th>\n",
       "      <td>Spice Elephant</td>\n",
       "      <td>1.0</td>\n",
       "      <td>0.0</td>\n",
       "      <td>4.1</td>\n",
       "      <td>787.0</td>\n",
       "      <td>800.0</td>\n",
       "      <td>[('Rated 4.0', 'RATED\\n  Had been here for din...</td>\n",
       "      <td>[]</td>\n",
       "      <td>0</td>\n",
       "      <td>0</td>\n",
       "      <td>...</td>\n",
       "      <td>0</td>\n",
       "      <td>0</td>\n",
       "      <td>0</td>\n",
       "      <td>0</td>\n",
       "      <td>0</td>\n",
       "      <td>0</td>\n",
       "      <td>0</td>\n",
       "      <td>0</td>\n",
       "      <td>0</td>\n",
       "      <td>0</td>\n",
       "    </tr>\n",
       "    <tr>\n",
       "      <th>2</th>\n",
       "      <td>San Churro Cafe</td>\n",
       "      <td>1.0</td>\n",
       "      <td>0.0</td>\n",
       "      <td>3.8</td>\n",
       "      <td>918.0</td>\n",
       "      <td>800.0</td>\n",
       "      <td>[('Rated 3.0', \"RATED\\n  Ambience is not that ...</td>\n",
       "      <td>[]</td>\n",
       "      <td>0</td>\n",
       "      <td>0</td>\n",
       "      <td>...</td>\n",
       "      <td>0</td>\n",
       "      <td>0</td>\n",
       "      <td>0</td>\n",
       "      <td>0</td>\n",
       "      <td>0</td>\n",
       "      <td>0</td>\n",
       "      <td>0</td>\n",
       "      <td>0</td>\n",
       "      <td>0</td>\n",
       "      <td>0</td>\n",
       "    </tr>\n",
       "  </tbody>\n",
       "</table>\n",
       "<p>3 rows × 6993 columns</p>\n",
       "</div>"
      ],
      "text/plain": [
       "              name  online_order  book_table  rate  votes   cost  \\\n",
       "0            Jalsa           1.0         1.0   4.1  775.0  800.0   \n",
       "1   Spice Elephant           1.0         0.0   4.1  787.0  800.0   \n",
       "2  San Churro Cafe           1.0         0.0   3.8  918.0  800.0   \n",
       "\n",
       "                                        reviews_list menu_item  Bakery  \\\n",
       "0  [('Rated 4.0', 'RATED\\n  A beautiful place to ...        []       0   \n",
       "1  [('Rated 4.0', 'RATED\\n  Had been here for din...        []       0   \n",
       "2  [('Rated 3.0', \"RATED\\n  Ambience is not that ...        []       0   \n",
       "\n",
       "   Bakery, Cafe  ...  \\\n",
       "0             0  ...   \n",
       "1             0  ...   \n",
       "2             0  ...   \n",
       "\n",
       "   Wings, Lime Soda, Manchow Soup, Biryani, Fried Rice, Chop Suey, Tandoori Roti  \\\n",
       "0                                                  0                               \n",
       "1                                                  0                               \n",
       "2                                                  0                               \n",
       "\n",
       "   Wings, Pizza  Wonton, American Chopsuey  Wood Fire Pizza  \\\n",
       "0             0                          0                0   \n",
       "1             0                          0                0   \n",
       "2             0                          0                0   \n",
       "\n",
       "   Wood Fire Pizza, Cocktails, Ferrero Rocher Shake, Falafel, Peri Peri Chicken, Pasta, Mocktails  \\\n",
       "0                                                  0                                                \n",
       "1                                                  0                                                \n",
       "2                                                  0                                                \n",
       "\n",
       "   Wood Fire Pizza, Cocktails, Ferrero Rocher Shake, Falafel, Peri Peri Chicken, Pasta, Nachos  \\\n",
       "0                                                  0                                             \n",
       "1                                                  0                                             \n",
       "2                                                  0                                             \n",
       "\n",
       "   Zinger Burger, Burgers, Popcorn Chicken  \\\n",
       "0                                        0   \n",
       "1                                        0   \n",
       "2                                        0   \n",
       "\n",
       "   Zinger Burger, Crispy Chicken, Rice Bowl, Hot Wings, Pizza, Chicken Popcorn, Virgin Mojito  \\\n",
       "0                                                  0                                            \n",
       "1                                                  0                                            \n",
       "2                                                  0                                            \n",
       "\n",
       "   Zinger Burger, French Fries, Choco Lash, Hot Wings, Virgin Mojito  \\\n",
       "0                                                  0                   \n",
       "1                                                  0                   \n",
       "2                                                  0                   \n",
       "\n",
       "   Zinger Burger, Hot Wings, Chicken Wings, Crispy Chicken, Fries  \n",
       "0                                                  0               \n",
       "1                                                  0               \n",
       "2                                                  0               \n",
       "\n",
       "[3 rows x 6993 columns]"
      ]
     },
     "execution_count": 57,
     "metadata": {},
     "output_type": "execute_result"
    }
   ],
   "source": [
    "Y.head(3)"
   ]
  },
  {
   "cell_type": "code",
   "execution_count": 58,
   "id": "placed-wonder",
   "metadata": {},
   "outputs": [],
   "source": [
    "from sklearn.preprocessing import StandardScaler"
   ]
  },
  {
   "cell_type": "code",
   "execution_count": 59,
   "id": "proper-spirit",
   "metadata": {},
   "outputs": [],
   "source": [
    "scaler=StandardScaler()"
   ]
  },
  {
   "cell_type": "code",
   "execution_count": 60,
   "id": "afraid-camera",
   "metadata": {},
   "outputs": [],
   "source": [
    "x=Y.drop(['name',#'dish_liked',\n",
    "          'reviews_list',\n",
    "          'menu_item',#'cuisines'\n",
    "         ],axis=1);"
   ]
  },
  {
   "cell_type": "code",
   "execution_count": 61,
   "id": "alone-cooking",
   "metadata": {},
   "outputs": [],
   "source": [
    "x_fit=scaler.fit_transform(x)"
   ]
  },
  {
   "cell_type": "code",
   "execution_count": 62,
   "id": "national-graduation",
   "metadata": {},
   "outputs": [
    {
     "name": "stdout",
     "output_type": "stream",
     "text": [
      "<class 'pandas.core.frame.DataFrame'>\n",
      "Int64Index: 23248 entries, 0 to 51715\n",
      "Columns: 6990 entries, online_order to Zinger Burger, Hot Wings, Chicken Wings, Crispy Chicken, Fries\n",
      "dtypes: float64(5), uint8(6985)\n",
      "memory usage: 156.4 MB\n"
     ]
    }
   ],
   "source": [
    "x.info()"
   ]
  },
  {
   "cell_type": "code",
   "execution_count": null,
   "id": "surprised-gospel",
   "metadata": {},
   "outputs": [],
   "source": [
    "x.head()"
   ]
  },
  {
   "cell_type": "code",
   "execution_count": 66,
   "id": "asian-insured",
   "metadata": {},
   "outputs": [],
   "source": [
    "from sklearn.feature_selection import SelectKBest"
   ]
  },
  {
   "cell_type": "code",
   "execution_count": null,
   "id": "isolated-mouse",
   "metadata": {},
   "outputs": [],
   "source": [
    "corr_x=x.corr().abs()\n",
    "corr_x"
   ]
  },
  {
   "cell_type": "code",
   "execution_count": null,
   "id": "palestinian-campus",
   "metadata": {},
   "outputs": [],
   "source": [
    "col_r=list(x)\n",
    "col_r"
   ]
  },
  {
   "cell_type": "code",
   "execution_count": null,
   "id": "palestinian-immunology",
   "metadata": {},
   "outputs": [],
   "source": [
    "col_r.insert(0, col_r.pop(col_r.index('rate')))"
   ]
  },
  {
   "cell_type": "code",
   "execution_count": null,
   "id": "limiting-collective",
   "metadata": {},
   "outputs": [],
   "source": [
    "col_r"
   ]
  },
  {
   "cell_type": "code",
   "execution_count": null,
   "id": "traditional-aberdeen",
   "metadata": {},
   "outputs": [],
   "source": [
    "x_1 = x.loc[:, col_r]"
   ]
  },
  {
   "cell_type": "code",
   "execution_count": null,
   "id": "aquatic-appliance",
   "metadata": {},
   "outputs": [],
   "source": [
    "x_1.head()"
   ]
  },
  {
   "cell_type": "code",
   "execution_count": null,
   "id": "funky-amateur",
   "metadata": {},
   "outputs": [],
   "source": [
    "x_1.info()"
   ]
  },
  {
   "cell_type": "code",
   "execution_count": null,
   "id": "aging-episode",
   "metadata": {},
   "outputs": [],
   "source": [
    "for i,a in enumerate(x_1.columns.values[0:1809]):\n",
    "    print('%s is %d' % (a,i))"
   ]
  },
  {
   "cell_type": "code",
   "execution_count": 63,
   "id": "micro-vocabulary",
   "metadata": {},
   "outputs": [
    {
     "name": "stdout",
     "output_type": "stream",
     "text": [
      "<class 'pandas.core.frame.DataFrame'>\n",
      "Int64Index: 23248 entries, 0 to 51715\n",
      "Columns: 6989 entries, online_order to Zinger Burger, Hot Wings, Chicken Wings, Crispy Chicken, Fries\n",
      "dtypes: float64(4), uint8(6985)\n",
      "memory usage: 156.3 MB\n"
     ]
    },
    {
     "data": {
      "text/html": [
       "<div>\n",
       "<style scoped>\n",
       "    .dataframe tbody tr th:only-of-type {\n",
       "        vertical-align: middle;\n",
       "    }\n",
       "\n",
       "    .dataframe tbody tr th {\n",
       "        vertical-align: top;\n",
       "    }\n",
       "\n",
       "    .dataframe thead th {\n",
       "        text-align: right;\n",
       "    }\n",
       "</style>\n",
       "<table border=\"1\" class=\"dataframe\">\n",
       "  <thead>\n",
       "    <tr style=\"text-align: right;\">\n",
       "      <th></th>\n",
       "      <th>online_order</th>\n",
       "      <th>book_table</th>\n",
       "      <th>votes</th>\n",
       "      <th>cost</th>\n",
       "      <th>Bakery</th>\n",
       "      <th>Bakery, Cafe</th>\n",
       "      <th>Bakery, Dessert Parlor</th>\n",
       "      <th>Bakery, Quick Bites</th>\n",
       "      <th>Bar</th>\n",
       "      <th>Bar, Casual Dining</th>\n",
       "      <th>...</th>\n",
       "      <th>Wings, Lime Soda, Manchow Soup, Biryani, Fried Rice, Chop Suey, Tandoori Roti</th>\n",
       "      <th>Wings, Pizza</th>\n",
       "      <th>Wonton, American Chopsuey</th>\n",
       "      <th>Wood Fire Pizza</th>\n",
       "      <th>Wood Fire Pizza, Cocktails, Ferrero Rocher Shake, Falafel, Peri Peri Chicken, Pasta, Mocktails</th>\n",
       "      <th>Wood Fire Pizza, Cocktails, Ferrero Rocher Shake, Falafel, Peri Peri Chicken, Pasta, Nachos</th>\n",
       "      <th>Zinger Burger, Burgers, Popcorn Chicken</th>\n",
       "      <th>Zinger Burger, Crispy Chicken, Rice Bowl, Hot Wings, Pizza, Chicken Popcorn, Virgin Mojito</th>\n",
       "      <th>Zinger Burger, French Fries, Choco Lash, Hot Wings, Virgin Mojito</th>\n",
       "      <th>Zinger Burger, Hot Wings, Chicken Wings, Crispy Chicken, Fries</th>\n",
       "    </tr>\n",
       "  </thead>\n",
       "  <tbody>\n",
       "    <tr>\n",
       "      <th>0</th>\n",
       "      <td>1.0</td>\n",
       "      <td>1.0</td>\n",
       "      <td>775.0</td>\n",
       "      <td>800.0</td>\n",
       "      <td>0</td>\n",
       "      <td>0</td>\n",
       "      <td>0</td>\n",
       "      <td>0</td>\n",
       "      <td>0</td>\n",
       "      <td>0</td>\n",
       "      <td>...</td>\n",
       "      <td>0</td>\n",
       "      <td>0</td>\n",
       "      <td>0</td>\n",
       "      <td>0</td>\n",
       "      <td>0</td>\n",
       "      <td>0</td>\n",
       "      <td>0</td>\n",
       "      <td>0</td>\n",
       "      <td>0</td>\n",
       "      <td>0</td>\n",
       "    </tr>\n",
       "    <tr>\n",
       "      <th>1</th>\n",
       "      <td>1.0</td>\n",
       "      <td>0.0</td>\n",
       "      <td>787.0</td>\n",
       "      <td>800.0</td>\n",
       "      <td>0</td>\n",
       "      <td>0</td>\n",
       "      <td>0</td>\n",
       "      <td>0</td>\n",
       "      <td>0</td>\n",
       "      <td>0</td>\n",
       "      <td>...</td>\n",
       "      <td>0</td>\n",
       "      <td>0</td>\n",
       "      <td>0</td>\n",
       "      <td>0</td>\n",
       "      <td>0</td>\n",
       "      <td>0</td>\n",
       "      <td>0</td>\n",
       "      <td>0</td>\n",
       "      <td>0</td>\n",
       "      <td>0</td>\n",
       "    </tr>\n",
       "    <tr>\n",
       "      <th>2</th>\n",
       "      <td>1.0</td>\n",
       "      <td>0.0</td>\n",
       "      <td>918.0</td>\n",
       "      <td>800.0</td>\n",
       "      <td>0</td>\n",
       "      <td>0</td>\n",
       "      <td>0</td>\n",
       "      <td>0</td>\n",
       "      <td>0</td>\n",
       "      <td>0</td>\n",
       "      <td>...</td>\n",
       "      <td>0</td>\n",
       "      <td>0</td>\n",
       "      <td>0</td>\n",
       "      <td>0</td>\n",
       "      <td>0</td>\n",
       "      <td>0</td>\n",
       "      <td>0</td>\n",
       "      <td>0</td>\n",
       "      <td>0</td>\n",
       "      <td>0</td>\n",
       "    </tr>\n",
       "    <tr>\n",
       "      <th>3</th>\n",
       "      <td>0.0</td>\n",
       "      <td>0.0</td>\n",
       "      <td>88.0</td>\n",
       "      <td>300.0</td>\n",
       "      <td>0</td>\n",
       "      <td>0</td>\n",
       "      <td>0</td>\n",
       "      <td>0</td>\n",
       "      <td>0</td>\n",
       "      <td>0</td>\n",
       "      <td>...</td>\n",
       "      <td>0</td>\n",
       "      <td>0</td>\n",
       "      <td>0</td>\n",
       "      <td>0</td>\n",
       "      <td>0</td>\n",
       "      <td>0</td>\n",
       "      <td>0</td>\n",
       "      <td>0</td>\n",
       "      <td>0</td>\n",
       "      <td>0</td>\n",
       "    </tr>\n",
       "    <tr>\n",
       "      <th>4</th>\n",
       "      <td>0.0</td>\n",
       "      <td>0.0</td>\n",
       "      <td>166.0</td>\n",
       "      <td>600.0</td>\n",
       "      <td>0</td>\n",
       "      <td>0</td>\n",
       "      <td>0</td>\n",
       "      <td>0</td>\n",
       "      <td>0</td>\n",
       "      <td>0</td>\n",
       "      <td>...</td>\n",
       "      <td>0</td>\n",
       "      <td>0</td>\n",
       "      <td>0</td>\n",
       "      <td>0</td>\n",
       "      <td>0</td>\n",
       "      <td>0</td>\n",
       "      <td>0</td>\n",
       "      <td>0</td>\n",
       "      <td>0</td>\n",
       "      <td>0</td>\n",
       "    </tr>\n",
       "    <tr>\n",
       "      <th>...</th>\n",
       "      <td>...</td>\n",
       "      <td>...</td>\n",
       "      <td>...</td>\n",
       "      <td>...</td>\n",
       "      <td>...</td>\n",
       "      <td>...</td>\n",
       "      <td>...</td>\n",
       "      <td>...</td>\n",
       "      <td>...</td>\n",
       "      <td>...</td>\n",
       "      <td>...</td>\n",
       "      <td>...</td>\n",
       "      <td>...</td>\n",
       "      <td>...</td>\n",
       "      <td>...</td>\n",
       "      <td>...</td>\n",
       "      <td>...</td>\n",
       "      <td>...</td>\n",
       "      <td>...</td>\n",
       "      <td>...</td>\n",
       "      <td>...</td>\n",
       "    </tr>\n",
       "    <tr>\n",
       "      <th>51705</th>\n",
       "      <td>1.0</td>\n",
       "      <td>1.0</td>\n",
       "      <td>128.0</td>\n",
       "      <td>1200.0</td>\n",
       "      <td>0</td>\n",
       "      <td>0</td>\n",
       "      <td>0</td>\n",
       "      <td>0</td>\n",
       "      <td>0</td>\n",
       "      <td>1</td>\n",
       "      <td>...</td>\n",
       "      <td>0</td>\n",
       "      <td>0</td>\n",
       "      <td>0</td>\n",
       "      <td>0</td>\n",
       "      <td>0</td>\n",
       "      <td>0</td>\n",
       "      <td>0</td>\n",
       "      <td>0</td>\n",
       "      <td>0</td>\n",
       "      <td>0</td>\n",
       "    </tr>\n",
       "    <tr>\n",
       "      <th>51707</th>\n",
       "      <td>0.0</td>\n",
       "      <td>0.0</td>\n",
       "      <td>77.0</td>\n",
       "      <td>2000.0</td>\n",
       "      <td>0</td>\n",
       "      <td>0</td>\n",
       "      <td>0</td>\n",
       "      <td>0</td>\n",
       "      <td>0</td>\n",
       "      <td>0</td>\n",
       "      <td>...</td>\n",
       "      <td>0</td>\n",
       "      <td>0</td>\n",
       "      <td>0</td>\n",
       "      <td>0</td>\n",
       "      <td>0</td>\n",
       "      <td>0</td>\n",
       "      <td>0</td>\n",
       "      <td>0</td>\n",
       "      <td>0</td>\n",
       "      <td>0</td>\n",
       "    </tr>\n",
       "    <tr>\n",
       "      <th>51708</th>\n",
       "      <td>0.0</td>\n",
       "      <td>0.0</td>\n",
       "      <td>161.0</td>\n",
       "      <td>1200.0</td>\n",
       "      <td>0</td>\n",
       "      <td>0</td>\n",
       "      <td>0</td>\n",
       "      <td>0</td>\n",
       "      <td>0</td>\n",
       "      <td>0</td>\n",
       "      <td>...</td>\n",
       "      <td>0</td>\n",
       "      <td>0</td>\n",
       "      <td>0</td>\n",
       "      <td>0</td>\n",
       "      <td>0</td>\n",
       "      <td>0</td>\n",
       "      <td>0</td>\n",
       "      <td>0</td>\n",
       "      <td>0</td>\n",
       "      <td>0</td>\n",
       "    </tr>\n",
       "    <tr>\n",
       "      <th>51711</th>\n",
       "      <td>0.0</td>\n",
       "      <td>0.0</td>\n",
       "      <td>81.0</td>\n",
       "      <td>800.0</td>\n",
       "      <td>0</td>\n",
       "      <td>0</td>\n",
       "      <td>0</td>\n",
       "      <td>0</td>\n",
       "      <td>0</td>\n",
       "      <td>0</td>\n",
       "      <td>...</td>\n",
       "      <td>0</td>\n",
       "      <td>0</td>\n",
       "      <td>0</td>\n",
       "      <td>0</td>\n",
       "      <td>0</td>\n",
       "      <td>0</td>\n",
       "      <td>0</td>\n",
       "      <td>0</td>\n",
       "      <td>0</td>\n",
       "      <td>0</td>\n",
       "    </tr>\n",
       "    <tr>\n",
       "      <th>51715</th>\n",
       "      <td>0.0</td>\n",
       "      <td>1.0</td>\n",
       "      <td>236.0</td>\n",
       "      <td>2500.0</td>\n",
       "      <td>0</td>\n",
       "      <td>0</td>\n",
       "      <td>0</td>\n",
       "      <td>0</td>\n",
       "      <td>1</td>\n",
       "      <td>0</td>\n",
       "      <td>...</td>\n",
       "      <td>0</td>\n",
       "      <td>0</td>\n",
       "      <td>0</td>\n",
       "      <td>0</td>\n",
       "      <td>0</td>\n",
       "      <td>0</td>\n",
       "      <td>0</td>\n",
       "      <td>0</td>\n",
       "      <td>0</td>\n",
       "      <td>0</td>\n",
       "    </tr>\n",
       "  </tbody>\n",
       "</table>\n",
       "<p>23248 rows × 6989 columns</p>\n",
       "</div>"
      ],
      "text/plain": [
       "       online_order  book_table  votes    cost  Bakery  Bakery, Cafe  \\\n",
       "0               1.0         1.0  775.0   800.0       0             0   \n",
       "1               1.0         0.0  787.0   800.0       0             0   \n",
       "2               1.0         0.0  918.0   800.0       0             0   \n",
       "3               0.0         0.0   88.0   300.0       0             0   \n",
       "4               0.0         0.0  166.0   600.0       0             0   \n",
       "...             ...         ...    ...     ...     ...           ...   \n",
       "51705           1.0         1.0  128.0  1200.0       0             0   \n",
       "51707           0.0         0.0   77.0  2000.0       0             0   \n",
       "51708           0.0         0.0  161.0  1200.0       0             0   \n",
       "51711           0.0         0.0   81.0   800.0       0             0   \n",
       "51715           0.0         1.0  236.0  2500.0       0             0   \n",
       "\n",
       "       Bakery, Dessert Parlor  Bakery, Quick Bites  Bar  Bar, Casual Dining  \\\n",
       "0                           0                    0    0                   0   \n",
       "1                           0                    0    0                   0   \n",
       "2                           0                    0    0                   0   \n",
       "3                           0                    0    0                   0   \n",
       "4                           0                    0    0                   0   \n",
       "...                       ...                  ...  ...                 ...   \n",
       "51705                       0                    0    0                   1   \n",
       "51707                       0                    0    0                   0   \n",
       "51708                       0                    0    0                   0   \n",
       "51711                       0                    0    0                   0   \n",
       "51715                       0                    0    1                   0   \n",
       "\n",
       "       ...  \\\n",
       "0      ...   \n",
       "1      ...   \n",
       "2      ...   \n",
       "3      ...   \n",
       "4      ...   \n",
       "...    ...   \n",
       "51705  ...   \n",
       "51707  ...   \n",
       "51708  ...   \n",
       "51711  ...   \n",
       "51715  ...   \n",
       "\n",
       "       Wings, Lime Soda, Manchow Soup, Biryani, Fried Rice, Chop Suey, Tandoori Roti  \\\n",
       "0                                                      0                               \n",
       "1                                                      0                               \n",
       "2                                                      0                               \n",
       "3                                                      0                               \n",
       "4                                                      0                               \n",
       "...                                                  ...                               \n",
       "51705                                                  0                               \n",
       "51707                                                  0                               \n",
       "51708                                                  0                               \n",
       "51711                                                  0                               \n",
       "51715                                                  0                               \n",
       "\n",
       "       Wings, Pizza  Wonton, American Chopsuey  Wood Fire Pizza  \\\n",
       "0                 0                          0                0   \n",
       "1                 0                          0                0   \n",
       "2                 0                          0                0   \n",
       "3                 0                          0                0   \n",
       "4                 0                          0                0   \n",
       "...             ...                        ...              ...   \n",
       "51705             0                          0                0   \n",
       "51707             0                          0                0   \n",
       "51708             0                          0                0   \n",
       "51711             0                          0                0   \n",
       "51715             0                          0                0   \n",
       "\n",
       "       Wood Fire Pizza, Cocktails, Ferrero Rocher Shake, Falafel, Peri Peri Chicken, Pasta, Mocktails  \\\n",
       "0                                                      0                                                \n",
       "1                                                      0                                                \n",
       "2                                                      0                                                \n",
       "3                                                      0                                                \n",
       "4                                                      0                                                \n",
       "...                                                  ...                                                \n",
       "51705                                                  0                                                \n",
       "51707                                                  0                                                \n",
       "51708                                                  0                                                \n",
       "51711                                                  0                                                \n",
       "51715                                                  0                                                \n",
       "\n",
       "       Wood Fire Pizza, Cocktails, Ferrero Rocher Shake, Falafel, Peri Peri Chicken, Pasta, Nachos  \\\n",
       "0                                                      0                                             \n",
       "1                                                      0                                             \n",
       "2                                                      0                                             \n",
       "3                                                      0                                             \n",
       "4                                                      0                                             \n",
       "...                                                  ...                                             \n",
       "51705                                                  0                                             \n",
       "51707                                                  0                                             \n",
       "51708                                                  0                                             \n",
       "51711                                                  0                                             \n",
       "51715                                                  0                                             \n",
       "\n",
       "       Zinger Burger, Burgers, Popcorn Chicken  \\\n",
       "0                                            0   \n",
       "1                                            0   \n",
       "2                                            0   \n",
       "3                                            0   \n",
       "4                                            0   \n",
       "...                                        ...   \n",
       "51705                                        0   \n",
       "51707                                        0   \n",
       "51708                                        0   \n",
       "51711                                        0   \n",
       "51715                                        0   \n",
       "\n",
       "       Zinger Burger, Crispy Chicken, Rice Bowl, Hot Wings, Pizza, Chicken Popcorn, Virgin Mojito  \\\n",
       "0                                                      0                                            \n",
       "1                                                      0                                            \n",
       "2                                                      0                                            \n",
       "3                                                      0                                            \n",
       "4                                                      0                                            \n",
       "...                                                  ...                                            \n",
       "51705                                                  0                                            \n",
       "51707                                                  0                                            \n",
       "51708                                                  0                                            \n",
       "51711                                                  0                                            \n",
       "51715                                                  0                                            \n",
       "\n",
       "       Zinger Burger, French Fries, Choco Lash, Hot Wings, Virgin Mojito  \\\n",
       "0                                                      0                   \n",
       "1                                                      0                   \n",
       "2                                                      0                   \n",
       "3                                                      0                   \n",
       "4                                                      0                   \n",
       "...                                                  ...                   \n",
       "51705                                                  0                   \n",
       "51707                                                  0                   \n",
       "51708                                                  0                   \n",
       "51711                                                  0                   \n",
       "51715                                                  0                   \n",
       "\n",
       "       Zinger Burger, Hot Wings, Chicken Wings, Crispy Chicken, Fries  \n",
       "0                                                      0               \n",
       "1                                                      0               \n",
       "2                                                      0               \n",
       "3                                                      0               \n",
       "4                                                      0               \n",
       "...                                                  ...               \n",
       "51705                                                  0               \n",
       "51707                                                  0               \n",
       "51708                                                  0               \n",
       "51711                                                  0               \n",
       "51715                                                  0               \n",
       "\n",
       "[23248 rows x 6989 columns]"
      ]
     },
     "execution_count": 63,
     "metadata": {},
     "output_type": "execute_result"
    }
   ],
   "source": [
    "X_init=x.drop(['rate'],axis=1)\n",
    "split_x=X_init.iloc[:,:]\n",
    "split_x.info()\n",
    "split_x.shape\n",
    "split_x"
   ]
  },
  {
   "cell_type": "code",
   "execution_count": 64,
   "id": "embedded-gauge",
   "metadata": {},
   "outputs": [
    {
     "data": {
      "text/html": [
       "<div>\n",
       "<style scoped>\n",
       "    .dataframe tbody tr th:only-of-type {\n",
       "        vertical-align: middle;\n",
       "    }\n",
       "\n",
       "    .dataframe tbody tr th {\n",
       "        vertical-align: top;\n",
       "    }\n",
       "\n",
       "    .dataframe thead th {\n",
       "        text-align: right;\n",
       "    }\n",
       "</style>\n",
       "<table border=\"1\" class=\"dataframe\">\n",
       "  <thead>\n",
       "    <tr style=\"text-align: right;\">\n",
       "      <th></th>\n",
       "      <th>rate</th>\n",
       "    </tr>\n",
       "  </thead>\n",
       "  <tbody>\n",
       "    <tr>\n",
       "      <th>0</th>\n",
       "      <td>4.1</td>\n",
       "    </tr>\n",
       "    <tr>\n",
       "      <th>1</th>\n",
       "      <td>4.1</td>\n",
       "    </tr>\n",
       "    <tr>\n",
       "      <th>2</th>\n",
       "      <td>3.8</td>\n",
       "    </tr>\n",
       "    <tr>\n",
       "      <th>3</th>\n",
       "      <td>3.7</td>\n",
       "    </tr>\n",
       "    <tr>\n",
       "      <th>4</th>\n",
       "      <td>3.8</td>\n",
       "    </tr>\n",
       "    <tr>\n",
       "      <th>...</th>\n",
       "      <td>...</td>\n",
       "    </tr>\n",
       "    <tr>\n",
       "      <th>51705</th>\n",
       "      <td>3.8</td>\n",
       "    </tr>\n",
       "    <tr>\n",
       "      <th>51707</th>\n",
       "      <td>3.9</td>\n",
       "    </tr>\n",
       "    <tr>\n",
       "      <th>51708</th>\n",
       "      <td>2.8</td>\n",
       "    </tr>\n",
       "    <tr>\n",
       "      <th>51711</th>\n",
       "      <td>2.5</td>\n",
       "    </tr>\n",
       "    <tr>\n",
       "      <th>51715</th>\n",
       "      <td>4.3</td>\n",
       "    </tr>\n",
       "  </tbody>\n",
       "</table>\n",
       "<p>23248 rows × 1 columns</p>\n",
       "</div>"
      ],
      "text/plain": [
       "       rate\n",
       "0       4.1\n",
       "1       4.1\n",
       "2       3.8\n",
       "3       3.7\n",
       "4       3.8\n",
       "...     ...\n",
       "51705   3.8\n",
       "51707   3.9\n",
       "51708   2.8\n",
       "51711   2.5\n",
       "51715   4.3\n",
       "\n",
       "[23248 rows x 1 columns]"
      ]
     },
     "execution_count": 64,
     "metadata": {},
     "output_type": "execute_result"
    }
   ],
   "source": [
    "Y_init=x.drop(x.columns.difference(['rate']),axis=1)\n",
    "split_y=Y_init.iloc[:,:]\n",
    "split_y=split_y.astype(float)\n",
    "split_y.shape\n",
    "split_y"
   ]
  },
  {
   "cell_type": "code",
   "execution_count": 67,
   "id": "hungarian-birthday",
   "metadata": {},
   "outputs": [
    {
     "name": "stderr",
     "output_type": "stream",
     "text": [
      "E:\\Users\\Rony\\anaconda3\\lib\\site-packages\\sklearn\\utils\\validation.py:73: DataConversionWarning: A column-vector y was passed when a 1d array was expected. Please change the shape of y to (n_samples, ), for example using ravel().\n",
      "  return f(**kwargs)\n",
      "E:\\Users\\Rony\\anaconda3\\lib\\site-packages\\sklearn\\feature_selection\\_univariate_selection.py:116: RuntimeWarning: divide by zero encountered in true_divide\n",
      "  f = msb / msw\n"
     ]
    }
   ],
   "source": [
    "bestfeatures=SelectKBest(k='all')\n",
    "fit=bestfeatures.fit(split_x,split_y)"
   ]
  },
  {
   "cell_type": "code",
   "execution_count": 68,
   "id": "headed-boundary",
   "metadata": {},
   "outputs": [
    {
     "data": {
      "text/plain": [
       "SelectKBest(k='all')"
      ]
     },
     "execution_count": 68,
     "metadata": {},
     "output_type": "execute_result"
    }
   ],
   "source": [
    "fit"
   ]
  },
  {
   "cell_type": "code",
   "execution_count": 69,
   "id": "trained-drunk",
   "metadata": {},
   "outputs": [],
   "source": [
    "scores=pd.DataFrame(fit.scores_)\n",
    "columns_=pd.DataFrame(split_x.columns)"
   ]
  },
  {
   "cell_type": "code",
   "execution_count": 70,
   "id": "portable-lawyer",
   "metadata": {},
   "outputs": [],
   "source": [
    "featurescore=pd.concat([columns_,scores],axis=1)"
   ]
  },
  {
   "cell_type": "code",
   "execution_count": 71,
   "id": "coordinate-thumbnail",
   "metadata": {},
   "outputs": [],
   "source": [
    "featurescore.columns = ['Features','Score']"
   ]
  },
  {
   "cell_type": "code",
   "execution_count": 72,
   "id": "yellow-comparison",
   "metadata": {},
   "outputs": [
    {
     "name": "stdout",
     "output_type": "stream",
     "text": [
      "                                               Features        Score\n",
      "3668                                                 Dj          inf\n",
      "3650                                    Dance Floor, Dj  3480.902200\n",
      "4932  Nachos, Pizza, Margarita, Mushroom Soup, Tacos...   773.034489\n",
      "4818     Mutton Biryani, Chilli Paneer, Chicken Biryani   463.860640\n",
      "2                                                 votes   416.418856\n",
      "248                         Asian, Chinese, Thai, Momos   407.480920\n",
      "4975  Noodles, Chicken Dim Sum, Pad Thai Noodle, Jum...   289.525917\n",
      "5062                          Noodles, Tandoori Chicken   231.910347\n",
      "3391  Coffee, Berryblast, Nachos, Chocolate Waffles,...   215.461147\n",
      "1223                                            Mexican   210.083900\n",
      "5849            Raita, Vegetable Biryani, Biryani Combo   193.100500\n",
      "1                                            book_table   177.105552\n",
      "4909  Naan, Pot Biryani, Chicken Guntur, Paneer Tikk...   171.896405\n",
      "2953  Chicken Guntur, Vegetable Biryani, Executive C...   154.620213\n",
      "4305  Khichda, Gaon Ki Thali, Buttermilk, Dal Makhan...   154.620213\n",
      "6040  Rolls, Rasgulla, Fish Fry, Bhetki Paturi, Mutt...   154.620213\n",
      "1572    North Indian, Thai, Japanese, Continental, Cafe   146.144421\n",
      "3                                                  cost   143.676015\n",
      "5848  Raita, Thali, Paratha, Chole, Buttermilk, Pane...   142.284579\n",
      "842   Continental, North Indian, Chinese, European, ...   137.804095\n"
     ]
    }
   ],
   "source": [
    "print(featurescore.nlargest(20,'Score'))"
   ]
  },
  {
   "cell_type": "code",
   "execution_count": 74,
   "id": "protected-mining",
   "metadata": {},
   "outputs": [],
   "source": [
    "col_select=featurescore.nlargest(800,'Score')"
   ]
  },
  {
   "cell_type": "code",
   "execution_count": 75,
   "id": "dangerous-metropolitan",
   "metadata": {},
   "outputs": [],
   "source": [
    "col_select.drop('Score',axis=1,inplace=True)"
   ]
  },
  {
   "cell_type": "code",
   "execution_count": 76,
   "id": "complex-petite",
   "metadata": {},
   "outputs": [],
   "source": [
    "col_select_list=list(col_select.Features)"
   ]
  },
  {
   "cell_type": "code",
   "execution_count": 77,
   "id": "amber-amplifier",
   "metadata": {},
   "outputs": [
    {
     "data": {
      "text/plain": [
       "['Dj',\n",
       " 'Dance Floor, Dj',\n",
       " 'Nachos, Pizza, Margarita, Mushroom Soup, Tacos, Tortilla Soup, Chicken Burritos',\n",
       " 'Mutton Biryani, Chilli Paneer, Chicken Biryani',\n",
       " 'votes',\n",
       " 'Asian, Chinese, Thai, Momos',\n",
       " 'Noodles, Chicken Dim Sum, Pad Thai Noodle, Jumbo Prawns, Cocktails, Prawn Sushi, Treasure Soup',\n",
       " 'Noodles, Tandoori Chicken',\n",
       " 'Coffee, Berryblast, Nachos, Chocolate Waffles, Nutella Waffle, Chocolate Overload, Sandwiches',\n",
       " 'Mexican',\n",
       " 'Raita, Vegetable Biryani, Biryani Combo',\n",
       " 'book_table',\n",
       " 'Naan, Pot Biryani, Chicken Guntur, Paneer Tikka, Tandoori Roti, Thali, Lassi',\n",
       " 'Chicken Guntur, Vegetable Biryani, Executive Chicken Biryani, Mutton Biryani, Hyderabadi Chicken Biryani',\n",
       " 'Khichda, Gaon Ki Thali, Buttermilk, Dal Makhani, Paratha, Shikanji, Paneer Bhurji',\n",
       " 'Rolls, Rasgulla, Fish Fry, Bhetki Paturi, Mutton Kosha, Veg Thali, Luchi',\n",
       " 'North Indian, Thai, Japanese, Continental, Cafe',\n",
       " 'cost',\n",
       " 'Raita, Thali, Paratha, Chole, Buttermilk, Paneer Bhurji, Rice',\n",
       " 'Continental, North Indian, Chinese, European, BBQ, Finger Food, Asian',\n",
       " 'Nachos, Chocolate Waffles, Nutella Waffle, Salsa, Oreo Waffle',\n",
       " 'Rajma Chawal, Khichda, Gulab Jamun, Paratha, Dal Makhani, Lassi, Paneer Tikka',\n",
       " 'Pub, Cafe',\n",
       " 'Coffee, Idli, Vada, Thali',\n",
       " 'Tangdi Chicken, Bbq Buffet, Chocolate Icecreams, Kofta Curry, Mutton Seekh Kabab, Paneer Curry, Mutton Keema',\n",
       " 'Paneer Biryani, Vegetable Biryani, Chicken Boneless Biryani',\n",
       " 'Lassi, Soya Chaap, Fish, Masala Papad',\n",
       " 'Continental, North Indian, Italian, South Indian, Finger Food',\n",
       " 'North Indian, Continental, Chinese',\n",
       " 'Crispy Corn, Sangria, Chicken Satay, Masala Fries, Wood Fire Pizza, Pesto Pasta, Cocktails',\n",
       " 'North Indian, Chinese, Fast Food, Rolls, Juices',\n",
       " 'Badam Milk, Potato Twister, Pav Bhaji, Panipuri, Tikki Chaat, Cheese Cutlet',\n",
       " 'Shawarma, Chicken Grill, Tandoori Chicken, Butter Chicken, Rolls, Chicken Tikka, Grape Juice',\n",
       " 'Chicken Lollipop, Spring Roll, Momos, Singapore Noodles, Chop Suey, Clear Soup, Sweet Corn Soup',\n",
       " 'Veg Platter, Burgers, Mushroom Soup, Cocktails, Nachos, Lemon Margarita, Chicken Fajita',\n",
       " 'Continental, Asian, North Indian',\n",
       " 'Burgers, Pasta, Cocktails, American Cheese Burger, Chicken Salad, Pancakes, Chocolate Dessert',\n",
       " 'North Indian, Chinese, South Indian, Street Food',\n",
       " 'Coffee, Dal Makhani',\n",
       " 'Coffee, Masala Dosa, Curd Rice, Idli Vada',\n",
       " 'Masala Peanuts, Chicken Biryani, Roti',\n",
       " 'Maddur Vada, Idli, Thali, Tea, Butter Masala Dosa, Filter Coffee, Cheese Dosa',\n",
       " 'Appam, Thali',\n",
       " 'Schezwan Chicken, Butter Chicken, Beer, Onion Pakoda, Tandoori Chicken, Dal Makhani, Lemon Chicken',\n",
       " 'American, North Indian, Chinese, Finger Food',\n",
       " 'North Indian, European, Mediterranean',\n",
       " 'Chocolate Lollipop, Chocolate Biscuit, Fire Shots, Sangria, Chocolate Ganache, Paneer Makhani, Corn Fry',\n",
       " 'Cocktails, Chaap, Tandoori Chicken, Mocktails, Beer, Ghee Roast Mutton, Martini',\n",
       " 'North Indian, European, Mediterranean, BBQ',\n",
       " 'Penne Arrabiata Pasta, Craft Beer, Bruschettas, Cocktails, Peri Peri Chicken, Pizza, Mocktails',\n",
       " 'European, Mediterranean, North Indian, BBQ',\n",
       " 'Healthy Food, Salad, Fast Food',\n",
       " 'Biryani, Tandoori Chicken',\n",
       " 'Chaat, Buttermilk, Paneer Bhurji, Gaon Ki Thali, Paratha, Gulab Jamun, Chole',\n",
       " 'Salad, Sandwich',\n",
       " 'Chicken Dim Sum, Pad Thai Noodle, Jumbo Prawns, Cocktails, Prawn Sushi, Treasure Soup, Chocolate Roll',\n",
       " 'Quick Bites',\n",
       " 'American, Tex-Mex, Burger, BBQ, Mexican',\n",
       " 'North Indian, Mughlai, Chinese',\n",
       " 'Andhra, South Indian, Chinese, North Indian',\n",
       " 'Cafe, American, Burger, Steak',\n",
       " 'Shawarma, Chicken Grill, Biryani',\n",
       " 'Chocolate Waffles, Chocolate Overload, Oreo Waffle, Nachos, Belgian Waffles, French Fries',\n",
       " 'Mocktails, Gulab Jamun, Chilli Chicken, Biryani, Lunch Buffet',\n",
       " 'Mutton Biryani, Shawarma, Mutton Chops, Pahadi Kebab, Chicken Kebab, Mango Shake, Rolls',\n",
       " 'Pizza, Lemonade, Chilli Cheese Fries, Thick Shakes',\n",
       " 'Sangria, Chicken Satay, Crispy Corn, Masala Fries, Wood Fire Pizza, Pesto Pasta, Cocktails',\n",
       " 'Burgers, Hot Dog, Coffee, Hot Chocolate, Sandwich, Double Choco Mocha, Fish N Chips',\n",
       " 'Burgers, Hot Dog, Coffee, Noodles, Hot Chocolate, Sandwich, Double Choco Mocha',\n",
       " 'Burgers, Hot Wings, Fries',\n",
       " 'Cocktails, Butter Chicken, Dahi Kebab, Rajma Chawal, Craft Beer, Teriyaki Fish, Buffalo Wings',\n",
       " 'Cocktails, Dahi Kebab, Rajma Chawal, Butter Chicken, Craft Beer, Chicken Dumplings, Teriyaki Fish',\n",
       " 'Biryani, Butter Chicken, Butter Naan, Kalmi Kebab, Roti, Rolls, Fried Rice',\n",
       " 'Fish Thali, Aloo Paratha',\n",
       " 'Chinese, South Indian, North Indian',\n",
       " 'Curd Rice, Pongal, Coffee, Thali, Noodles, Pav Bhaji, Masala Dosa',\n",
       " 'European, Italian, Desserts, Salad, Juices, Steak',\n",
       " 'Manchow Soup, Caramel Custard, Cocktails, Bbq Platter, Pork Ribs, Mocktails, Paratha',\n",
       " 'Donne Biryani, Chilli Chicken, Chicken Guntur, Mutton Biryani, Chicken Biryani, Mutton Thali',\n",
       " 'Paratha, Boondi Raita, Roti, Kulfi, Panneer Butter Masala, Sweet Lassi, Dal Tadka',\n",
       " 'North Indian, European, Mediterranean, BBQ, Kebab',\n",
       " 'Finger Food',\n",
       " 'Tandoori Chicken, Onion Rings, Masala Peanuts, Draught Beer, Panneer Butter Masala, Cocktails',\n",
       " 'Paneer Peri Peri, Pancakes, Fajitas, Sweet Crepe, Peri Peri Chicken, Chicken Breast, Nutella Crepe',\n",
       " 'Raita, Hyderabadi Biryani',\n",
       " 'Cafe, American, Pizza',\n",
       " 'Coffee, Sandwich, Hot Chocolate, Ice Tea, Sandwiches, Chicken Lasagne, Pizza',\n",
       " 'Cafe, Pizza, Fast Food, Beverages',\n",
       " 'North Indian, South Indian, Chinese, Fast Food',\n",
       " 'Cocktails, Pizza, Craft Beer, Nachos, Stout, Cheesecake, Chilli Chicken',\n",
       " 'Dahipuri, Jal-jeera, Chicken Grill, Mutton Seekh Kabab, Rasmalai, Mutton Curry, Mutton Kebab',\n",
       " 'Pizza, Garlic Bread, Beer, Tiramisu, Vanilla Ice Cream, Ravioli, Coffee Ice Cream',\n",
       " 'Pizza, Garlic Bread, Beer, Tiramisu, Vanilla Ice Cream, Ravioli, Salads',\n",
       " 'Jeera Rice, Corn Paratha, Paneer Bhurji, Gobhi Matar, Vegetarian, Sweet Lassi, Dal Fry',\n",
       " 'Breakfast Buffet, Salads',\n",
       " 'Gulab Jamun',\n",
       " 'Lassi, Tandoori Chicken, Dal Fry, Palak Paneer, Aloo Paratha, Garlic Naan, Butter Chicken',\n",
       " 'Paratha, Rolls, Roti',\n",
       " 'Butter Naan, Buttermilk, Jowar Roti, Panneer Butter Masala',\n",
       " 'Roti, Chicken Biryani',\n",
       " 'Cocktails, Craft Beer, Salads, Devils Chicken, Sea Food, Mocktails, Wedges',\n",
       " 'Italian, Pizza, Salad',\n",
       " 'Arabian, Biryani, North Indian, Chinese, Fast Food',\n",
       " 'Rolls, Shawarma Roll, Chicken Grill, Thali',\n",
       " 'Cocktails, Mutton Seekh, Tangdi Chicken, Mango Ice Cream, Biryani, Malai Kulfi, Fish',\n",
       " 'Casual Dining, Bar',\n",
       " 'Coffee, Sandwiches, Cappuccino',\n",
       " 'Idli, Vada, Pongal, Filter Coffee, Mini Idlis, Rava Masala Dosa, Tea',\n",
       " 'Kachori, Indori Poha, Cheese Paratha, Paneer Parantha, Thali, Poha Jalebi',\n",
       " 'Biryani, North Indian, Italian, Chinese, Sandwich, Desserts',\n",
       " 'Chicken Momo, Momos',\n",
       " 'Butter Chicken, Noodles',\n",
       " 'Lunch Buffet, Goan Fish Curry, Mocktails, Chicken Biryani, Cocktails, Paan Kulfi, Pasta',\n",
       " 'Masala Dosa, Panneer Butter Masala, Thali',\n",
       " 'Cafe, Desserts, Continental',\n",
       " 'Butter Naan, Kadhai Mushroom',\n",
       " 'Dal Makhani, Gulab Jamun, Lassi, Thali, Masala Chaach, Rice, Raita',\n",
       " 'Gulab Jamun, Thali, Dal Makhani, Paneer Curry, Rajma',\n",
       " 'Salads, Salad, Sandwich, Chicken Ham, Roast Chicken Sub',\n",
       " 'Mutton Biryani, Brinjal Curry, Chicken Biryani, Kheer, Hyderabadi Biryani, Raita, Kebab Platter',\n",
       " 'Rolls, Chicken Grill',\n",
       " 'Desserts',\n",
       " 'Pub, Microbrewery',\n",
       " 'Chicken Malai Tikka, Jalebi Rabri, Lunch Buffet, Paneer Tikka, Kulfi, Jumbo Prawns, Murgh Malai',\n",
       " 'Chicken Malai Tikka, Jalebi Rabri, Paneer Tikka, Kulfi, Jumbo Prawns, Murgh Malai, Lunch Buffet',\n",
       " 'Pizza, Mutton Kebab, Chicken Biryani, Sea Food, Chicken Dim Sum, Mutton Keema, Pasta',\n",
       " 'Italian, Chinese, Japanese',\n",
       " 'Chowmein, Chicken Manchow Soup, Momos, Dragon Rolls, Chicken Momo, Hot Pot, Sweet Corn Chicken Soup',\n",
       " 'Mutton Biryani, Raita, Firni, Chicken Biryani, Rolls, Chicken Tikka Kebab, Naan',\n",
       " 'Asian, Mediterranean, North Indian, BBQ',\n",
       " 'North Indian, Chinese, Arabian, Biryani, Fast Food',\n",
       " 'Italian, Pizza, Beverages',\n",
       " 'Andhra, North Indian, Chinese, Mangalorean',\n",
       " 'Biryani, Andhra Meal',\n",
       " 'Burgers, Tea, Hot Coffee, Hot Chocolate, Cappuccino, Fries, Veg Burger',\n",
       " 'Rice, Mutton Biryani, Chicken Biryani, Haleem, Vegetable Biryani, Hyderabadi Biryani, Chicken Guntur',\n",
       " 'Salads, Gulab Jamun, Fish Curry, Lunch Buffet',\n",
       " 'North Indian, Chinese',\n",
       " 'Butter Chicken, Paratha',\n",
       " 'Biryani, Butter Naan',\n",
       " 'Garlic Naan',\n",
       " 'Paratha, Samosa, Vada Pav',\n",
       " 'Puttu Biryani, Egg Roast',\n",
       " 'North Indian, Chinese, Kerala',\n",
       " 'Cafe, Pizza, Beverages',\n",
       " 'Garlic Bread, Waffles, Brownie Shake, Cookie Monster Shake, Wood Fire Pizza, Big Bang Shake, Mushroom Pizza',\n",
       " 'Dum Biryani, Chicken Biryani, Rice, Roti, Mutton Biryani',\n",
       " 'Poha, Bread Omelette, Ginger Chai, Ginger Tea',\n",
       " 'Thali, Chicken Lollipop, Gundappa Donne Biryani, Mutton Biryani',\n",
       " 'Pasta, Sandwiches, Cappuccino, Sandwich',\n",
       " 'Burgers, Biryani',\n",
       " 'Chicken Noodle, Rice Noodles, Dragon Rolls, American Chopsuey, Fried Rice Chicken, Chowmein, Clear Chicken Soup',\n",
       " 'Lounge',\n",
       " 'Murgh Makhani, Chicken Biryani, Naan, Beer, Tandoori Chicken',\n",
       " 'Coffee, Pasta, Sandwiches, Sunday Breakfast, Apple Pie, Hot Chocolate, Chicken Quiche',\n",
       " 'Saag, Veg Thali',\n",
       " 'Pizza, Cafe, Italian',\n",
       " 'Paneer Tikka, Dal Kichadi, French Fries',\n",
       " 'North Indian, Beverages',\n",
       " 'Rasgulla, Egg Devils, Mutton Kosha, Luchi, Chicken Biryani, Aalo Bhaja, Mughlai Paratha',\n",
       " 'Chocolate Waffles, Nutella Waffle, Nachos, French Fries, Blueberry Waffles, Berryblast, Belgian Waffles',\n",
       " 'Dahipuri, Jal-jeera, Jalebi Rabri, Chicken Grill, Mutton Seekh Kabab, Mutton Curry, Chocolate Sandwich',\n",
       " 'Kulfi, Lunch Buffet, Murgh Lababdar, Kadhai Paneer, Dahi Kebab, Lassi, Butter Chicken',\n",
       " 'Mutton Curry, Mutton Seekh, Brownie, Gol Gappe, Fish, Rabri, Chicken Curry',\n",
       " 'Mutton Roganjosh, Mutton Keema, Mutton Curry, Macaroon, Paan Ice Cream, Sea Food, Prawn',\n",
       " 'Penne Arrabiata Pasta, Craft Beer, Cocktails, Bruschettas, Peri Peri Chicken, Pizza, Mocktails',\n",
       " 'Raj Kachori, Paan Kulfi, Churros, Butter Chicken, Momos, Bbq Prawns, Pudding',\n",
       " 'Singapore Sling, Sea Food Platter, Cocktails, Long Island Iced Tea, Vanilla Ice Cream, Martini, Ghee Rice',\n",
       " 'Veg Puff, Plum Cake, Sponge Cake, Tea, Coconut Biscuits, Fruit Cake, Apple Cake',\n",
       " 'African, Burger',\n",
       " 'Chinese, American, Continental, Italian, North Indian',\n",
       " 'Continental, European, BBQ, Chinese, Asian',\n",
       " 'Pasta, Tiramisu, Wine, Barbeque Chicken Pizza, Salads, Brownie Chocolate, Bruschettas',\n",
       " 'Chicken Grill, Rumali Roti, Rolls',\n",
       " 'Dal Makhani, Rice, Buttermilk',\n",
       " 'Tandoori Chicken, Butter Chicken, Lassi, Shahi Paneer, Tandoori Roti, Rumali Roti, Biryani',\n",
       " 'Chaat, Gulab Jamun, Raj Kachori, Chole, Bhel Puri, Biryani, Veg Thali',\n",
       " 'Ginger Tea, Roti, Dal Tadka, Naan, Rava Masala Dosa',\n",
       " 'Hyderabadi Biryani, Roti, Chicken Dum Biryani, Pepper Chicken, Chicken Masala, Gongura Chicken, Veg Platter',\n",
       " 'Pie, Thin Crust Pizza, Cheesy Pizza, Pepperoni Pizza, Paneer Pizza',\n",
       " 'Sandwich, Burgers',\n",
       " 'Sandwiches, Salad, Corn Soup',\n",
       " 'North Indian, Chinese, Continental, Thai, Salad',\n",
       " 'Egg Chilli, Butter Naan, Watermelon Juice, Chocolate Halwa, Fry Prawns, Mocktails, Salads',\n",
       " 'Hunan Tofu, Noodles, Jumbo Prawns, Jasmine Tea, Chicken Momo, Cocktails, Momos',\n",
       " 'Pizza, Garlic Bread, Veg Supreme',\n",
       " 'Masala Dosa, Vada, Filter Coffee',\n",
       " 'Microbrewery',\n",
       " 'Garlic Naan, Tandoori Chicken, Basmati Rice',\n",
       " 'Tandoori Chicken, Butter Chicken, Garlic Naan',\n",
       " 'Chaat, Custard, Fish, Pepper Chicken, Lunch Buffet, Chicken Tikka, Salads',\n",
       " 'South Indian, Street Food, Fast Food, Desserts, Beverages',\n",
       " 'Pasta, Supreme Pizza, Thin Crust Pizza, Cheesy Garlic Bread',\n",
       " 'North Indian, Street Food, Mithai',\n",
       " 'Sandwiches, Sandwich, Coffee',\n",
       " 'online_order',\n",
       " 'Rice, Noodles, Chop Suey',\n",
       " 'Biryani, North Indian, Chinese',\n",
       " 'Burgers, Spinach Pizza, Butter Chicken Pizza, Chicken Bbq Burger, Tiramisu, Ferrero Rocher, Brownie Shake',\n",
       " 'Thai Crispy Chicken, Mojito, Watermelon Martini, Chicken Biryani, Beef Fry, Cocktails, Calamari',\n",
       " 'European, Continental',\n",
       " 'Cafe, American, Burger',\n",
       " 'Waffles, Healthy Breakfast, English Breakfast, Pancakes, Burgers, Sandwiches, Mushroom Omelette',\n",
       " 'Bar, Casual Dining',\n",
       " 'North Indian, Chinese, Thai',\n",
       " 'North Indian, Momos, Rolls, Fast Food',\n",
       " 'Ginger Chai, Ginger Tea, Pakoda, Paratha, Maggi, Pav Bhaji, Sulemani Chai',\n",
       " 'Quick Bites, Food Court',\n",
       " 'Chaat, Panipuri, Lassi, Gol Gappe, Paratha, Pav Bhaji, Samosa',\n",
       " 'North Indian, Chinese, Biryani, Andhra, Mangalorean',\n",
       " 'North Indian, Chinese, Kerala, Mughlai, Arabian, Beverages',\n",
       " 'Biryani, Mutton Chops',\n",
       " 'Egg Paratha, Tangdi Kabab, Butter Chicken, Ghee Rice, Faluda, Shawarma, Chicken Kebab',\n",
       " 'Prawn Biryani, Andhra Meal, Veg Thali, Fry Piece Biryani, Gongura Chicken, Paratha',\n",
       " 'Sandwich, Coffee, Sandwiches, Brownie, Pizza',\n",
       " 'Sandwiches, Brownie, Chicken Sandwich, Pizza, Hot Chocolate, Chocolate Sundae, Icecream Cake',\n",
       " 'Kerala, Chinese, Seafood, North Indian',\n",
       " 'Masala Papad, Cheese Garlic Naan, Coffee, Corn Soup, Pasta',\n",
       " 'Noodles, Kung Pao Vegetables, Sweet Corn Soup, Chowmein, Prawn',\n",
       " 'Pothichoru, Kerala Parotta, Beef Fry, Vegetable Stew, Chicken Curry, Paratha, Biryani',\n",
       " 'Chicken Grill, Biryani',\n",
       " 'Delivery',\n",
       " 'North Indian, Fast Food, Beverages, Momos',\n",
       " 'Lassi, Chai, Paratha',\n",
       " 'North Indian, Biryani, Andhra, Chinese',\n",
       " 'Mango Lassi, Butter Chicken, Manchurian, Dehati Chicken, Paneer Lababdar, Chilli Chicken, Palak Paneer',\n",
       " 'North Indian, Mithai',\n",
       " 'Egg Tadka, Roti, Veg Thali',\n",
       " 'North Indian, Mughlai, Salad',\n",
       " 'Chaat, Nachos, Peri Peri Pizza, Wedges, Milk Shake, Pink Lemonade, Pasta',\n",
       " 'Jeera Rice, Mutton Chops, Chicken Salad, Vegetable Biryani, Zafrani Mutton Biryani, Mutton Seekh, Mutton Roganjosh',\n",
       " 'Pizza, Pasta, Cocktails, Spinach Ravioli, Tiramisu, Panna Cotta, Wine',\n",
       " 'Cafe, Casual Dining',\n",
       " 'Modern Indian',\n",
       " 'Asian, Burmese',\n",
       " 'Burgers, Pasta Arrabiata, Ferrero Rocher Milkshake, Veg Pattice, Pesto Pasta, Rolls, Salads',\n",
       " 'Fish, Salad, Paan Ice Cream, Mocktails, Chicken Curry, Phirni, Panneer Butter Masala',\n",
       " 'Hot Chocolate Fudge, Chocolate Mousse, Brownie Fudge Sundae, Almond Fudge, Banana Split, Ice Cream Sundae, Apple Pie',\n",
       " 'Mutton Curry, Tender Coconut Payasam, Mutton Seekh Kebab, Kulfi, Kheer, Chicken Biryani, Brownie',\n",
       " 'Pasta, Mezze Platter, Momos, Pizza, Waffles, Chocolate Milkshake, Pancakes',\n",
       " 'Desserts, Juices, Fast Food',\n",
       " 'Tea, Vada Sambar, Masala Dosa',\n",
       " 'Arabian, Sandwich, Rolls, Burger',\n",
       " 'North Indian, Chinese, Continental, Mangalorean',\n",
       " 'Anjal Masala Fry, Pasta, Veg Platter, Biryani, Jeera Rice, Murgh Ghee Roast, Sea Food',\n",
       " 'Chole Bhature, Tea, Kachori',\n",
       " 'Shawarma, Sandwiches',\n",
       " 'Cafe',\n",
       " 'Brownie Chocolate, Brown Bomb, Hot Chocolate Fudge, Fudge Cake, Brownie Fudge',\n",
       " 'Thukpa, Hakka Noodles',\n",
       " 'Chinese, Fast Food, Cafe',\n",
       " 'Lassi, Panneer Butter Masala, Paratha, Thali',\n",
       " 'Chaat, Chole Bhature, Raj Kachori, Thali, Rasmalai, Paratha, Pav Bhaji',\n",
       " 'Cafe, Continental, Mediterranean, Beverages',\n",
       " 'Coffee, Chocolate Mocha, Hot Chocolate, Chocolate Cake, Sandwiches, Pizza, Bannoffee Pie',\n",
       " 'Salads, Healthy Breakfast, Quinoa Salad, Frittata, Pancakes, Smoothie Chocolate, Wheat Roll',\n",
       " 'Bakery, Fast Food, Italian',\n",
       " 'Chicken Curry, Mutton Biryani, Paratha, Kothu Parotta, Mutton Fry, Pallipalayam Chicken, Chicken Biryani',\n",
       " 'Chaat, Dabeli, Panipuri',\n",
       " 'Dal Makhani',\n",
       " 'Fast Food, Burger, Pizza',\n",
       " 'Rolls, Tandoori Murgh Masala, Legendary Arsalan, Firni, Phirni, Mutton Biryani, Chicken Roll',\n",
       " 'Desserts, Italian, Pizza',\n",
       " 'Coffee, Veg Puff, Latte',\n",
       " 'Pasta, Sandwiches, Club Sandwich, Cottage Cheese Steak, Waffles, Chicken Lasagne, Chicken Burger',\n",
       " 'Casual Dining, Cafe',\n",
       " 'Noodles, Honey Chilli Chicken, Crispy Chilli Chicken',\n",
       " 'Kerala, North Indian, Chinese, Rolls, Juices',\n",
       " 'Chicken Grill, Shawarma, Rolls, Biryani, Kerala Parotta',\n",
       " 'Pepperoni, Cheesy Pizza',\n",
       " 'Rolls, Momos, Masala Fries, Kulfi, French Fries, Egg Roll, Paneer Roll',\n",
       " 'Vegetable Biryani, Hyderabadi Biryani, Paneer Tikka, Raita, Basmati Rice, Chicken Biryani, Dum Biryani',\n",
       " 'Coffee, Vegetable Biryani, Masala Chai, Roti',\n",
       " 'Tea, Masala Chai, Filter Coffee, Sandwich, Burgers, Orange Juice, Poha',\n",
       " 'Pizza, Italian, Salad',\n",
       " 'North Indian, Kerala, Chinese, Biryani, Seafood, South Indian',\n",
       " 'Aloo Paratha',\n",
       " 'Masala Dosa, Coffee',\n",
       " 'Mithai, North Indian, Street Food, Chinese',\n",
       " 'North Indian, Chinese, Andhra',\n",
       " 'Benne Masala Dosa, Filter Coffee, Chai, Butter Masala Dosa, Crispy Vada, Tea, Kesari Bath',\n",
       " 'Chinese, Fast Food, Cafe, Street Food, Finger Food',\n",
       " 'North Indian, South Indian, Chinese, Beverages',\n",
       " 'Ambur Biryani, Vegetable Biryani',\n",
       " 'Biryani, Manchow Soup, Naan',\n",
       " 'Burgers, Biryani, Cheesecake',\n",
       " 'Filter Coffee, Masala Dosa, Pongal, Pav Bhaji, Badam Milk, Thali',\n",
       " 'Paratha, Vegetarian, Makke Ki Roti, Curd Rice, Chicken Biryani, Malai Kofta, Sweet Lassi',\n",
       " 'Rice Bowl',\n",
       " 'Seekh Kebab, Hyderabadi Biryani, Vegetable Biryani, Chicken Biryani, Raita, Kheer, Egg Biryani',\n",
       " 'Thai Chicken, Chicken Lollipop, Cocktails, Jeera Rice, Rolls, Draught Beer, French Fries',\n",
       " 'Thin Crust Pizza',\n",
       " 'Mughlai, North Indian, Chinese',\n",
       " 'Lime Soda, Appam, Biryani, Pepper Chicken, Vegetable Stew, Chicken Curry',\n",
       " 'Hyderabadi, North Indian, Chinese, Biryani',\n",
       " 'Cafe, Italian, Tex-Mex, Fast Food, Burger',\n",
       " 'Masala Dosa, Plain Dosa',\n",
       " 'Mojito, Fajitas',\n",
       " 'Outdoor Sitting Arrangement, Vegetable Biryani, Dal Makhani, Veg Thali',\n",
       " 'Pasta, Vegetable Biryani, Chole, Chicken Kebab, Lunch Buffet, Chicken Biryani, Chicken Curry',\n",
       " 'Pav Bhaji, Panipuri, Chaat',\n",
       " 'Lucknowi, Chinese',\n",
       " 'North Indian, Chinese, Fast Food, BBQ',\n",
       " 'Dum Biryani, Prawn Curry, Paneer Biryani, Chicken Boneless Biryani, Apollo Fish',\n",
       " 'Jalebi, Poha, Puri Sabzi',\n",
       " 'Kalmi Kabab, Gulab Jamun, Chicken Grill, Shawarma Roll, Vegetarian, Barbeque Chicken, Dal Fry',\n",
       " 'Tikki, Chicken Tikka, Chicken Biryani, Thali, Shammi Kebab Roll, Rumali Roti, Nihari',\n",
       " 'Biryani, Chicken Kebab, Andhra Meal, Lime Soda',\n",
       " 'North Indian, Chinese, Rolls',\n",
       " 'Ice Cream, Cafe, Pizza, Burger, Desserts, Beverages',\n",
       " 'Cafe, Beverages',\n",
       " 'Lassi',\n",
       " 'Biryani, Fast Food, Rolls',\n",
       " 'Chicken Biryani, Butter Chicken',\n",
       " 'Ginger Chai, Ginger Tea, Banana Cake, Samosa, Masala Chai, Banana Walnut',\n",
       " 'Malai Kofta, Chicken Boneless Biryani, Naan, Sweet Corn Soup, Noodles, Thali, Hyderabadi Dum Biryani',\n",
       " 'Pasta, Pizza, Garlic Bread',\n",
       " 'Poha, Masala Tea, Sandwiches, Pav Bhaji, Coffee, Egg Roll, Omelette',\n",
       " 'Raita, Vegetable Biryani, Hyderabadi Biryani, Chicken Curry, Chicken Biryani',\n",
       " 'Rolls, Beda Roti, Chicken Baida Roti, Chicken Tikka Roll, Aloo Tikka Roll, Mushroom Roll',\n",
       " 'Chinese, Asian, Cantonese, Tea',\n",
       " 'Chicken Grill, Garlic Bread, Mocktails, Burgers, Fries, Salads, Pudding',\n",
       " 'Cocktails, Burgers, Salads, Veg Burger, Peri Chicken, Pasta Alfredo, Hazelnut Mousse Flan',\n",
       " 'Pancakes, Waffles, Popcorn, Nachos, Tea, Savoury Crepe, Hot Chocolate',\n",
       " 'Ramen, Cocktails, Crab Sushi, Maki Roll, Creme Brulee, Thai Chicken Salad, Beef Salad',\n",
       " 'Seafood Soup, Mocktails, Mushroom Salad, Thai Salad, Wine, Jasmine Rice, Thai Red Curry',\n",
       " 'Seafood Soup, Mocktails, Mushroom Salad, Wine, Jasmine Rice, Som Tam, Thai Red Curry',\n",
       " 'Coffee, Fries, Cappuccino, Margherita Pizza',\n",
       " 'Sushi, Dumplings, Khau Suey, Noodles, Cocktails, Virgin Mojito, Drunken Beef',\n",
       " 'Biryani, Multi Grain Dosa, Kheer, Egg Bhurji, Sooji Halwa, Tamarind Chicken, Coffee',\n",
       " 'Drinks & nightlife',\n",
       " 'Biryani, North Indian',\n",
       " 'Continental, BBQ, Salad',\n",
       " 'Pan Cake, Waffles, Nutella Pancakes',\n",
       " 'Microbrewery, Casual Dining',\n",
       " 'Finger Food, Continental, North Indian',\n",
       " 'Biryani, Murgh Lababdar, Thali',\n",
       " 'North Indian, South Indian, Chinese, Street Food',\n",
       " 'Rolls, Chicken Tikka Roll, Cheese Roll',\n",
       " 'South Indian, Street Food, Chinese, Fast Food',\n",
       " 'Burgers, Pasta',\n",
       " 'Butter Chicken, Andhra Meal, Murgh Ghee Roast, Vegetable Biryani, Butter Naan, Roti, Hyderabadi Chicken Biryani',\n",
       " 'Paratha, Panipuri, Puri Sabzi, Rasgulla, Rasmalai, Pav Bhaji, Samosa Chaat',\n",
       " 'Paratha, Samosa, Chole Bhature, Pav Bhaji, Kachori, Vada Pav',\n",
       " 'Thin Crust Pizza, Pepperoni, Pie',\n",
       " 'Dum Biryani',\n",
       " 'Fish, Rasmalai, Doi Katla, Aalo Bhaja, Bhetki Paturi, Chicken Kasha, Aloo Posto',\n",
       " 'Cafe, Italian, Fast Food',\n",
       " 'Burgers, Sandwiches, Fries, Pasta, Tea, Chicken Curry, Fried Rice',\n",
       " 'Biryani, Thali',\n",
       " 'Asian, Japanese, Korean, Indonesian, Malaysian, Singaporean',\n",
       " 'Fast Food, Street Food, North Indian, Biryani',\n",
       " 'Burgers, Chicken Fries, Hot Wings',\n",
       " 'Lassi, Raita, Chole, Dal Makhani, Gulab Jamun, Buttermilk',\n",
       " 'Rolls, Phirni, Mutton Biryani, Kadhai Murgh, Tandoori Roti, Chicken Roll, Chicken Chaap',\n",
       " 'Sandwiches, Shawarma, Pasta',\n",
       " 'Cafe, Tea, Beverages',\n",
       " 'North Indian, South Indian, Chinese, Fast Food, Beverages, Desserts, Street Food',\n",
       " 'Coffee, Vada, Rava Masala Dosa, Faluda, Rice, Idli',\n",
       " 'Mutton Biryani, Pahari Chicken, Chicken Biryani, Mutton Chops, Mutton Roganjosh, Shawarma, Raita',\n",
       " 'Salads, Coffee, Breakfast Buffet, Halwa, Chicken Biryani, Lunch Buffet, Noodles',\n",
       " 'Salads, Mint Masala, Breakfast Buffet, Pasta, Spring Roll, Lunch Buffet, Roti',\n",
       " 'Sandwiches, Coffee, Burgers, Chicken Wrap, Rolls, Ginger Tea, Chicken Sandwich',\n",
       " 'Dessert Parlor, Cafe',\n",
       " 'Paratha, Shahi Paneer',\n",
       " 'American, Continental, North Indian, Mediterranean',\n",
       " 'Beer, Cocktails, Tiramisu, Tawa Chicken, Mocktails, Chicken Satay, Sea Food',\n",
       " 'Pizza, Cocktails, Peri Peri Chicken, Mocktails, Craft Beer, Pasta, Nachos',\n",
       " 'Andhra, North Indian, Chinese, Mangalorean, Seafood, Biryani',\n",
       " 'Asian, North Indian, Continental',\n",
       " 'Kashmiri',\n",
       " 'Biryani, Fried Rice Chicken',\n",
       " 'Coffee, Thali',\n",
       " 'Firni, Roganjosh, Phirni, Tabakh Maaz, Wings',\n",
       " 'Noodles, Dragon Chicken, Chop Suey',\n",
       " 'Healthy Food, Salad, Mediterranean',\n",
       " 'Biryani, Tomato Soup, Farm Pizza, Dumplings, Lemonade, Salad, Smoothie Bowls',\n",
       " 'Kadai Paneer, Kulfi, Kadhai Paneer, Dahi Kebab, Butter Chicken, Murgh Lababdar, Lunch Buffet',\n",
       " 'Oreo Waffle, Nachos, Coffee, Chocolate Waffles, Nutella Waffle, Salsa, Belgian Waffles',\n",
       " 'Pie, Vanilla Gelato, Mango Ice Cream, Tiramisu, Truffle, Gelato Ice Cream, Ice Cream Sandwiches',\n",
       " 'Pizza, Mutton Kebab, Chicken Biryani, Sea Food, Chicken Dim Sum, Pasta, Mocktails',\n",
       " 'Kerala, Seafood, South Indian, Biryani',\n",
       " 'Pizza, Chinese, Rolls',\n",
       " 'Aloo Paratha, Panneer Butter Masala',\n",
       " 'Biryani, Kshatriya Kebab',\n",
       " 'Chicken Curry, Paratha, Fish, Kerala Parotta',\n",
       " 'Rolls, Falafel, Biryani, Paratha',\n",
       " 'Sandwiches, Lassi, Berry Delight, Faluda, Oreo Shake',\n",
       " 'Thali, Lassi, Litti, Pav Bhaji, Chole Bhature, Aloo Paratha',\n",
       " 'North Indian, South Indian, Continental',\n",
       " 'American, BBQ',\n",
       " 'Continental, Mexican, Chinese, North Indian',\n",
       " 'Beef Chilli, Salad, Cocktails, Pizza, Craft Beer, Mango Cider, Potato Wedges',\n",
       " 'Burgers, Cocktails, Legendary Hrc Burger, Nachos, Sandwiches, Bloody Mary, Mocktails',\n",
       " 'Cocktails, Chicken Curry, Beer, Watermelon Mojito, Bbq Mushroom, Kokum Sharbat, Brain Fry',\n",
       " 'Pasta, Pizza, Garlic Bread, Wine, Salad, Salads, Ravioli',\n",
       " 'Thai',\n",
       " 'Sushi, Japanese, Chinese, Thai',\n",
       " 'Cocktails, Sunday Brunch, Rasmalai, Lunch Buffet, Ravioli, Biryani, Sunday Brunches',\n",
       " 'Jumbo Prawns, Tai Pai Chicken, Singapore Noodles, Wine, Chilli Chicken, Cocktails, Chicken Dim Sum',\n",
       " 'Jumbo Prawns, Tai Pai Chicken, Singapore Noodles, Wine, Cocktails, Chicken Dim Sum, Momos',\n",
       " 'Kulcha, Cocktails, Peri Peri Chicken, Masala Peanuts, Virgin Colada, Apple Pie, Sea Food',\n",
       " 'Pizza, Lauki Halwa, Keema Pav, Mutton Kebab, Crab Sushi, Appam, Mutton Chops',\n",
       " 'Spaghetti, Ghee Roast Mutton, Draft Beer, Pinacolada, Pizza, Cocktails, Craft Beer',\n",
       " 'Wheat Beer, Risotto, Craft Beer, Caesar Salad, Pizza, Hefeweizen, Cheesy Garlic Bread',\n",
       " 'Biryani, Rolls, Firni, Chicken Roll, Mutton Pasanda, Mutton Rezala, Phirni',\n",
       " 'South Indian, North Indian, Chinese, Street Food, Fast Food',\n",
       " 'Chicken, Pot Biryani, Mutton Biryani',\n",
       " 'Coffee, Raj Kachori, Idli, Vada, Tea, Masala Dosa, Chaat',\n",
       " 'Filter Coffee, Rava Dosa, Masala Dosa, Tea, Pav Bhaji, Manchurian, Dahi Vada',\n",
       " 'Manchow Soup',\n",
       " 'Vegetable Biryani, Hyderabadi Biryani, Paneer Tikka, Basmati Rice, Raita, Chicken Biryani, Dum Biryani',\n",
       " 'Wonton, American Chopsuey',\n",
       " 'Momos, Thukpa, Butter Tea',\n",
       " 'North Indian',\n",
       " 'Bakery, Quick Bites',\n",
       " 'Microbrewery, Pub',\n",
       " 'Coffee, Cappuccino',\n",
       " 'Andhra, Biryani, Seafood',\n",
       " 'North Indian, Chinese, Biryani, Kebab',\n",
       " 'Burgers, Mcmuffin, French Fries, Waffles, Pancakes, Mc Veggie, Coffee',\n",
       " 'Chicken Grill, Biryani, Roti, Chicken Masala',\n",
       " 'Raita, Lassi, Appam, Halwa',\n",
       " 'Courteous Staff',\n",
       " 'Gulab Jamun, Jalebi, Samosa, Chole, Sev Puri, Rasgulla, Masala Poori',\n",
       " 'Panneer Butter Masala, Lassi',\n",
       " 'Dessert Parlor',\n",
       " 'Bengali',\n",
       " 'Fine Dining',\n",
       " 'Finger Food, North Indian, Continental',\n",
       " 'Bar, Pub',\n",
       " 'American, North Indian, Salad',\n",
       " 'Continental, Finger Food, Asian, Chinese',\n",
       " 'Spanish, Italian, Mediterranean, European, Salad',\n",
       " 'Burgers, Cocktails, Salads, Veg Burger, Peri Chicken, Pasta Alfredo, Hazelnut Mousse Flan',\n",
       " 'Cappuccino, Pasta, Cucumber Spritzer, Cocktails, Murgh Platter, Mocktails, Burgers',\n",
       " 'Cocktails, Salads, Pork Ribs, Tomato Soup, Burgers, Mushroom Toast, Cheesecake',\n",
       " 'Farmhouse Pizza, Chocolate Banana, Virgin Mojito, Pasta, Paneer Tikka, Lime Soda, Prawn Pizza',\n",
       " 'Keema Pav, Cocktails, Craft Beer, Pork Chops, Mocktails, Hefeweizen, Nachos',\n",
       " 'Masala Peanuts, Onion Rings, Cocktails, Biryani, Veg Momos, Pinacolada, Pakoda',\n",
       " 'Salads, Martini, Tiramisu, Caviar, Ravioli, Cocktails, Wine',\n",
       " 'Vada',\n",
       " 'Biryani, Chinese, North Indian',\n",
       " 'Fast Food, Biryani, Rolls',\n",
       " 'Bengali, North Indian, Oriya',\n",
       " 'Biryani, Chinese, Fast Food, North Indian',\n",
       " 'Burgers, Pasta, Sandwiches',\n",
       " 'Firni, Rolls, Egg Roll, Chicken Biryani, Mutton Biryani, Calcutta Biryani, Haleem',\n",
       " 'Panneer Butter Masala, Paratha, Vegetable Biryani',\n",
       " 'Berryblast, Gourmet Pizza, Mocktails, Ravioli, Bacon Pizza, Pasta, Prawn Pizza',\n",
       " 'Pizza, Coffee, Pasta, Tiramisu, Cheesecake, Hot Chocolate, Pie',\n",
       " 'North Indian, South Indian, Biryani, Continental',\n",
       " 'Biryani, Paneer Pasanda',\n",
       " 'Biryani, Paratha, Tandoori Chicken, Butter Chicken, Dal Makhani',\n",
       " 'Brownie, Cappuccino, Burgers',\n",
       " 'Coffee, Sandwich',\n",
       " 'Dal Tadka, Matar Methi Malai, Malai Kofta, Jeera Rice, Roti',\n",
       " 'Rajma, Tandoori Roti, Sweet Lassi, Tandoori Chicken, Naan, Dal Makhani, Veg Thali',\n",
       " 'Sea Food, Fish Fry, Fish Curry, Fish Kebab, Buttermilk, Fry Prawns, Ragi Mudde',\n",
       " 'Arabian, North Indian, Chinese, Kerala, Seafood, Biryani',\n",
       " 'North Indian, South Indian, Seafood, Biryani, Chinese',\n",
       " 'Afghan Chicken',\n",
       " 'Chicken Grill, Butter Chicken, Shawarma, Chicken Shwarma Roll, Chicken Lollipop, Rumali Roti, Rolls',\n",
       " 'Falafel, Shawarma, Chicken Shawarama, Salad, Whole Wheat Pita, Middle Eastern Food, Pizza',\n",
       " 'Kerala Parotta, Jumbo Shawarma, Dragon Chicken, Rolls, Vegetarian, Chicken Shawarama, Faluda',\n",
       " 'Lassi, Naan, Chicken Biryani, Butter Chicken, Aloo Paratha, Manchurian, Paneer Tikka Masala',\n",
       " 'Noodles, Salad',\n",
       " 'Kerala, North Indian, Chinese',\n",
       " 'Cantonese Noodles, Basil Chicken, Hunan Chicken Gravy, Manchow Soup, Dragon Chicken, Chicken Grill',\n",
       " 'Chaat, Lassi, Tawa Pulav, Potato Twister, Dal Makhani, Chole Bhature, Rajma',\n",
       " 'Hyderabadi Biryani, Mutton Biryani, Dal Fry',\n",
       " 'Rava Masala Dosa, Chaat, Dal Tadka, Onion Dosa, Tomato Soup, Thali, Tea',\n",
       " 'Cafe, Fast Food',\n",
       " 'Chicken Biryani, Chicken Kebab',\n",
       " 'Al Faham Chicken, Kalmi Kebab, Bbq Chicken, Chicken Tikka, Shawarma, Malabari Biryani, Chicken Wrap',\n",
       " 'Idli, Vada, Coffee, Masala Dosa, Masala Poori',\n",
       " 'Paneer Parantha, Mutton Biryani, Lassi, Dal Makhani, Thali, Aloo Paratha',\n",
       " 'Pesto Pizza',\n",
       " 'Pasta, Chicken Steak, Burgers, Cold Coffee, Shawarma, Honey Chilli Fries',\n",
       " 'Paratha',\n",
       " 'Chicken Lollipop, Idiyappam, Chicken Biryani, Fried Rice, Roti, Kerala Parotta, Pepper Chicken',\n",
       " 'Filter Coffee, Kesari Bath, Idli Vada, Upma, Badam Milk, Kharabath, Tea',\n",
       " 'Mutton Roganjosh, Mutton Keema, Mutton Curry, Macaroon, Paan Ice Cream, Sea Food, Biryani',\n",
       " 'American, Continental, North Indian, Salad',\n",
       " 'Chinese, Sushi, Asian, Thai',\n",
       " 'Continental, American, Italian, Modern Indian, Pizza, Burger',\n",
       " 'Cocktails, Long Island Iced Tea, Draught Beer, Masala Peanuts, Pizza, Mocktails, Chicken Tikka',\n",
       " 'Mango Cider, Cajun Potato, Nachos, Salads, Pizza, Wheat Beer, Pork Ribs',\n",
       " 'Noodles, Manchow Soup, Sake, Veg Sushi, Virgin Pinacolada, Tempura Prawns, Sea Food',\n",
       " 'Healthy Food, Mediterranean, Desserts, Italian, Pizza, Salad, Kebab',\n",
       " 'Roti, Cocktails, Chicken Biryani, Paratha, Dahi Ke Kabab, Jalebi, Chicken Tikka',\n",
       " 'Mediterranean, Pizza, Continental, Seafood, Salad',\n",
       " 'Casual Dining',\n",
       " 'Healthy Food, Beverages, Fast Food',\n",
       " 'Pizza, Pasta, Burgers, Lasagne, Masala Garlic Bread',\n",
       " 'Cafe, Fast Food, Chinese',\n",
       " 'North Indian, Chinese, Rolls, Biryani, Kebab',\n",
       " 'Biryani, Chicken Guntur, Thali, Buttermilk, Manchurian',\n",
       " 'Chicken Guntur, Andhra Meal, Chicken Tikka Masala, Chicken Biryani, Hyderabadi Biryani, Dum Biryani, Lime Soda',\n",
       " 'Coffee, Vada, Rava Masala Dosa, Upma',\n",
       " 'Donne Biryani, Chilli Chicken, Chicken Guntur, Mutton Biryani, Mutton Thali, Chicken Biryani',\n",
       " 'Rice, Hyderabadi Chicken Biryani, Raita, Vegetable Biryani',\n",
       " 'Roti, Paratha, Biryani, Thali',\n",
       " 'Roti, Paratha, Jeera Rice, Panneer Butter Masala, Sweet Lassi, Tandoori Chicken, Tawa Chicken',\n",
       " 'Chinese, North Indian',\n",
       " 'Veg Thali, Fish Thali',\n",
       " 'Kerala, Seafood',\n",
       " 'Andhra, Chinese, North Indian, Hyderabadi',\n",
       " 'Chicken Guntur, Biryani, Thali',\n",
       " 'American, Cafe, Continental',\n",
       " 'Healthy Food, North Indian, Biryani, Continental, Sandwich, Desserts',\n",
       " 'Continental, Mediterranean, North Indian, Chinese, Finger Food',\n",
       " 'Continental, Finger Food, Asian, North Indian',\n",
       " 'Chicken Grill, Shawarma',\n",
       " 'Coffee, Potato Wedges, Tea',\n",
       " 'Maggi, Pasta, Burgers, Sandwiches, Fries',\n",
       " 'Casual Dining, Pub',\n",
       " 'Italian, Salad',\n",
       " 'Japanese',\n",
       " 'Cappuccino, Eclair, Pizza, Coffee, Blueberry Cheesecake, Oreo Cheesecake, Tiramisu',\n",
       " 'Cafe, Dessert Parlor',\n",
       " 'Desserts, Cafe',\n",
       " 'North Indian, Hyderabadi, Chinese',\n",
       " 'North Indian, Italian, Chinese, Asian',\n",
       " 'North Indian, South Indian, Chinese, Biryani, Seafood',\n",
       " 'South Indian, Chinese, Fast Food',\n",
       " 'Andhra Meal, Thali',\n",
       " 'Belgian Chocolate, Waffle Cone, Tiramisu',\n",
       " 'Biryani, Pepper Chicken, Ghee Rice, Dal Fry',\n",
       " 'Chicken, Hyderabadi Biryani, Mutton Biryani',\n",
       " 'Laccha Paratha, Butter Naan, Roti, Vegetable Biryani',\n",
       " 'Neer Dosa, Sea Food, Pepper Chicken',\n",
       " 'Noodles, Spring Roll, Kung Pao Chicken, Lamb, Sweet Corn Soup, Fish, Manchow Soup',\n",
       " 'Pav Bhaji, Filter Coffee, Onion Dosa, Rava Dosa, Mysore Pak, Vada, Filter Kaapi',\n",
       " 'Pizza, Pepperoni',\n",
       " 'Salads, Gulab Jamun, Pasta, Fish, Rasgulla, Coffee, Lunch Buffet',\n",
       " 'Tea, Filter Coffee, Pongal, Masala Dosa',\n",
       " 'Vada, Sweet Corn Soup',\n",
       " 'Donne Biryani, Mutton Biryani',\n",
       " 'Deluxe Thali, Chole Bhature',\n",
       " 'Egg Biryani, Chicken Curry, Chicken Boneless Biryani, Chilli Chicken, Vegetable Biryani, Jeera Rice',\n",
       " 'Malai Kofta, Fries, Chicken Biryani, Stuffed Kulcha',\n",
       " 'Marathahalli',\n",
       " 'American, Cafe, Continental, French, Burger, Mexican, Desserts, Pizza',\n",
       " 'Lebanese, Turkish',\n",
       " 'Pasta, Wine, Pizza, Lasagne, Cheesecake, Spinach Ravioli, Cocktails',\n",
       " 'Pub',\n",
       " 'Cafe, European, Continental',\n",
       " 'Cafe, North Indian, Pizza, Sandwich, Salad',\n",
       " 'Chinese, Continental, North Indian, Burger, Pizza, Seafood',\n",
       " 'Beef Steak, Custard, Burgers, Beef Stroganoff, Salad, Sandwich, Sandwiches',\n",
       " 'Dahi Kebab, Lamb, Mocktails, Lassi, Vegetable Biryani, Galauti Kebab, Mutton Biryani',\n",
       " 'Pizza, Healthy Breakfast, Salads, Frittata, Salad, Carrot Halwa, Potato Fries',\n",
       " 'North Indian, Chinese, Street Food, Biryani',\n",
       " 'Arabian, North Indian, Biryani, Chinese, Seafood',\n",
       " 'Cafe, American, Burger, Beverages',\n",
       " 'North Indian, Chinese, Mughlai, Mexican, BBQ',\n",
       " 'Burgers, Waffles, Pancakes, Sunday Morning Breakfast, Sandwich, Pasta, Chocolate Milkshake',\n",
       " 'Cocktails, Beer, Mocktails, Biryani, Long Island Iced Tea, Pizza, Drunken Prawn',\n",
       " 'Cocktails, Mocktails, Momos, Chilli Chicken, Crispy Corn, Nachos, Mojito',\n",
       " 'Cocktails, Mocktails, Momos, Nachos, Crispy Corn, Mojito, Chicken Tennessee Wings',\n",
       " 'Dumplings, Noodles, Cocktails, Mocktails, Mango Mascarpone Gateau, Macaroon, Chocolate Hazelnut Mousse',\n",
       " 'Hot Chocolate, Chocolate Pastry, Cheesecake, Coffee, Chocolate Sundae, Chips, Mumbai Sandwich',\n",
       " 'Neer Dosa, Mutton Biryani, Brownie, Paan Ice Cream, Cocktails, Mocktails, Vegetable Biryani',\n",
       " 'Pizza, Nachos, Garlic Maggi, Burgers, Cheese Maggi, Bruschetta Bites, Sandwich',\n",
       " 'Tandoori Chicken, Butter Naan, Kadai Paneer, Pepper Chicken',\n",
       " 'Wood Fire Pizza',\n",
       " 'Biryani, Chinese',\n",
       " 'Arabian, Mughlai, Chinese, Kebab, Fast Food',\n",
       " 'North Indian, Chinese, BBQ',\n",
       " 'Sandwich',\n",
       " 'Chicken Biryani, Mutton Biryani, Chicken Manchurian, Shahi Biryani',\n",
       " 'Hakka Noodles, Honey Chilli Chicken, Garlic Butter Noodle, Dragon Chicken, Garlic Chicken',\n",
       " 'Neer Dosa, Thali, Ghee Rice, Sea Food, Paratha',\n",
       " 'Paratha, Panneer Butter Masala, Roti, Khichda',\n",
       " 'Waffles, Coffee, Pizza, Burgers, Hot Chocolate, Brownie, Fries',\n",
       " 'Waffles, Pizza, Coffee, Burgers, Hot Chocolate, Fries, Pancakes',\n",
       " 'Naan, Chicken Biryani, Butter Chicken, Pasta, Noodles, Rajma Chawal, Maggi',\n",
       " 'Continental, BBQ, Finger Food',\n",
       " 'Quick Bites, Cafe',\n",
       " 'Chicken Biryani',\n",
       " 'Desserts, Cafe, Bakery',\n",
       " 'Fast Food, Desserts, Cafe',\n",
       " 'Ambur Biryani',\n",
       " 'Biryani, Tea, Falafel, Hookah',\n",
       " 'Burgers, Chicken Biryani',\n",
       " 'Coffee, Pizza, Fries',\n",
       " 'Fish Chilli, Kadhai Paneer, Vegetable Biryani, Chicken Kebab, Veg Thali, Chicken Butter Masala, Butter Naan',\n",
       " 'Naan, Paratha, Sweet Lassi, Egg Masala, Matar Paneer, Dal Tadka, Panneer Butter Masala',\n",
       " 'Shawarma, Biryani Combo, Chicken Grill',\n",
       " 'Mughlai, Kebab, Chinese',\n",
       " 'Cafe, Lounge',\n",
       " 'Cafe, American, Asian, North Indian',\n",
       " 'Modern Indian, European, Asian',\n",
       " 'Cafe, Beverages, Fast Food',\n",
       " 'North Indian, Chinese, South Indian, Continental',\n",
       " 'Shawarma, Pepper Chicken',\n",
       " 'South Indian, North Indian, Fast Food',\n",
       " 'Bengali, Rolls, Chinese',\n",
       " 'Continental, Italian, Pizza',\n",
       " 'North Indian, Chinese, Biryani, Mangalorean',\n",
       " 'North Indian, Mughlai, Chinese, Arabian, Kerala',\n",
       " 'Pizza, Chinese, North Indian',\n",
       " 'Seafood, Biryani, Hyderabadi, North Indian',\n",
       " 'Appam, Egg Curry',\n",
       " 'Biryani, Tandoori Chicken, Chicken Grill, Shawarma Roll',\n",
       " 'Chicken Biryani, Ambur Biryani, Kothu Paratha, Onion Raita, Fish Fry',\n",
       " 'Chicken Steak, Cheese Balls',\n",
       " 'Egg Biryani, Dum Biryani, Naan',\n",
       " 'Kori Roti, Fish, Sea Food',\n",
       " 'Momos, Chop Suey',\n",
       " 'Paratha, Paneer Thali, Tandoori Roti, Chole Bhature',\n",
       " 'Pasta, Coffee, Pizza, Burgers, Momos, Latte, Americano',\n",
       " 'Rolls, Biryani, Dum Aloo',\n",
       " 'Rolls, Chicken Momo, Biryani, Paneer Roll',\n",
       " 'Salads, Mint Masala, Breakfast Buffet, Pasta, Lunch Buffet, Spring Roll, Roti',\n",
       " 'South Indian, North Indian, Chinese',\n",
       " 'Chinese, Italian, North Indian',\n",
       " 'Pasta, Lunch Buffet, Pizza, Noodles, Draught Beer',\n",
       " 'Tandoori Chicken, Paneer Makhani, Mutton Roganjosh, Paratha, Aloo Jeera, Butter Chicken',\n",
       " 'North Indian, South Indian, Chinese, Continental, Mangalorean',\n",
       " 'Kadhai Murgh, Coffee Toffee, Pasta, Tandoori Chicken, Dum Aloo, Tandoori Pomfret, Butter Chicken',\n",
       " 'North Indian, Mughlai, Biryani, Chinese',\n",
       " 'Appam, Kappa Biryani, Chicken Fry, Kallappam, Buttermilk, Beef Fry, Paratha',\n",
       " 'Murgh Ghee Roast, Veg Thali, Chicken Chettinad, Chicken Kshatriya, Mutton Chops, Hyderabadi Biryani, Roti',\n",
       " 'Pav Bhaji, Dabeli, Paratha, Raj Kachori, Vada Pav',\n",
       " 'South Indian, North Indian, Chinese, Street Food, Juices',\n",
       " 'Prompt Service',\n",
       " 'Blueberry Waffles, Nutella Waffle, Hot Chocolate, Thick Shakes, Coffee, Oreo Shake, Chocolate Oreo',\n",
       " 'Burgers, Pasta, Mocktails, Cheese Burger, Ferrero Rocher Milkshake, Peri Chicken, Chicken Paprika',\n",
       " 'Coffee Walnut, Chocolate Icecreams, Tender Coconut Ice Cream, Thandai, Mango Ice Cream, Fruit Ice Cream, Custard Apple',\n",
       " 'South Indian, Fast Food, Street Food',\n",
       " 'Desserts, Cafe, Beverages',\n",
       " 'BBQ, North Indian, Continental, Chinese',\n",
       " 'Italian, American, Pizza',\n",
       " 'Beer, Pesto Pizza, Nachos, Cocktails, Beef Lasagna, Mai Thai, Tacos',\n",
       " 'Mocktails, Fish, Biryani, Dal Makhani, Wine, Risotto, Chaat',\n",
       " 'Panipuri, Chaat, Jalebi, Paan Kulfi, Paan Shot, Pasta, Soya Chaap',\n",
       " 'Ramen, Sushi Platter, Sushi Bar, Pork Dumplings, Maki Roll, Japanese Green Tea, Thai Red Curry',\n",
       " 'Samosa Soup, Khau Suey, Khao Suey, Salads, Crispy Corn, Avocado Ice Cream, Mocktails',\n",
       " 'Samosa Soup, Khau Suey, Salads, Khao Suey, Avocado Ice Cream, Mocktails, Salad',\n",
       " 'Wheat Beer, Risotto, Craft Beer, Caesar Salad, Pizza, Biryani, Cheesy Garlic Bread',\n",
       " 'Chettinad, South Indian, North Indian',\n",
       " 'North Indian, Biryani, Chinese, Rolls',\n",
       " 'Appam, Buttermilk, Idiyappam, Kerala Parotta, Chicken Curry, Paratha, Roast Beef',\n",
       " 'Chicken Kebab, Gulab Jamun, Chicken Biryani Combo',\n",
       " 'Chicken Roll, Sweet Lime',\n",
       " 'Ghee Rice, Paratha, Shawarma, Butter Chicken, Tandoori Chicken, Chicken Grill, Chicken Tikka Biryani',\n",
       " 'Sandwiches, Rolls, Coffee, Burgers, French Fries',\n",
       " 'Tandoori Chicken, Chicken Biryani',\n",
       " 'Chinese, Tibetan',\n",
       " 'Cafe, Continental, Fast Food',\n",
       " 'Fine Dining, Lounge',\n",
       " 'Cafe, Continental, Healthy Food, Sandwich, Pizza, Desserts, Beverages',\n",
       " 'Mediterranean, Pizza, Italian, Beverages',\n",
       " 'Coffee, Hummus Platter, Granola Parfait, Hot Chocolate, Cappuccino, Waffles, Skillet Cookie',\n",
       " 'Pho, Hot Pot, Sangria, Fig Ice Cream, Crepe, Fish, Pumpkin Soup',\n",
       " 'Pizza, Healthy Breakfast, Momos, Enchiladas, Aloo Papdi Chaat, Coffee, Tea',\n",
       " 'Sushi, Dumplings, Sea Food, Chocolate Volcano, Lamb, Sunday Brunch, Chicken Yakitori',\n",
       " 'Tomato Soup, Brownie Shake, Pizza, Salad, Fries, Chicken Bbq Wings, Pasta',\n",
       " 'Continental, North Indian, BBQ, Steak',\n",
       " 'Kerala, Chinese',\n",
       " 'North Indian, Italian',\n",
       " 'Thali, Chilli Chicken, Chicken Curry, Andhra Meal, Vegetable Biryani',\n",
       " 'Buffet',\n",
       " 'Pizza, Italian',\n",
       " 'Chinese, North Indian, Cafe',\n",
       " 'Breakfast Buffet, Omelette, Lunch Buffet, Pasta',\n",
       " 'Pubs and bars',\n",
       " 'Chettinad, Chinese, South Indian',\n",
       " 'Chinese, North Indian, Seafood',\n",
       " 'North Indian, Mughlai, Bengali, Chinese',\n",
       " 'Biryani, Sea Food, Fish Thali',\n",
       " 'Chicken Sukha, Butter Chicken, Panneer Butter Masala, Masala Prawn, Chicken Curry, Biryani, Paratha',\n",
       " 'Fish, Aloo Posto',\n",
       " 'Hyderabadi Dum Biryani, Vegetable Biryani',\n",
       " 'Jeera Rice, Thali, Roti',\n",
       " 'Masala Papad',\n",
       " 'Paratha, Tea, Pasta, Omelette, Rolls, Sandwich',\n",
       " 'Pav Bhaji, Tea, Tandoori Roti, Coffee, Malai Kofta, Vada, Curd Rice',\n",
       " 'Sea Food, Dal Makhani, Basmati Rice, Butter Chicken, Chicken Tikka Masala',\n",
       " 'Paratha, Lassi, Manchurian, Thali',\n",
       " 'Continental, North Indian, Asian, Italian',\n",
       " 'Pizza Burger',\n",
       " 'Chicken Sandwich',\n",
       " 'Vietnamese',\n",
       " 'Bengali, Seafood',\n",
       " 'Bakery, Cafe',\n",
       " 'Andhra, South Indian, North Indian',\n",
       " 'Salad, Biryani, Chinese, North Indian, Kerala, Desserts, Seafood, South Indian',\n",
       " 'Burgers, Fries, Chicken Wings, Popcorn, Chicken Grill',\n",
       " 'Chicken Curry, Red Rice, Fish Curry',\n",
       " 'Chicken Lollipop, Crispy Spinach Chicken',\n",
       " 'Donne Chicken Biryani, Akki Rottis, Roti, Mutton Chops, Chicken Curry, Vada, Coffee',\n",
       " 'Masala Dosa, Biryani, Chicken Stew, Tea, Appam, Paratha',\n",
       " 'Plum Cake',\n",
       " 'Noodles, Momos, Chicken Noodle',\n",
       " 'Casual Dining, Irani Cafee',\n",
       " 'Parsi, North Indian',\n",
       " 'Pasta, Sandwiches, Ginger Tea, Salad, Sandwich',\n",
       " 'North Indian, Chinese, Continental, Italian',\n",
       " 'Gajar Ka Halwa, Chilli Chicken, Hara Bhara Kebab, Custard, Brownie, Sev Puri, Pasta',\n",
       " 'Paan Ice Cream, Cocktails, Fish Grill, Crispy Corn, Butter Chicken, Phirni, Chicken Tikka',\n",
       " 'Japanese, Asian',\n",
       " 'Andhra, South Indian, Biryani',\n",
       " 'Chicken Fry, Masala Prawn',\n",
       " 'Andhra, Biryani, Chinese, North Indian, Seafood, South Indian',\n",
       " 'Mediterranean, European, Salad',\n",
       " 'Salads, Cocktails, Hazelnut Cake, Pepperoni Pizza, Mocktails, Calamari, Risotto',\n",
       " 'Coffee, Mutton Steak, Veg Burger, Plum Cake, Ginger Tea',\n",
       " 'Paratha, Kadai Paneer',\n",
       " 'Rooftop Ambience',\n",
       " 'Bakery, Cafe, Italian, Desserts',\n",
       " 'Bakery, Desserts, Sandwich',\n",
       " 'Fast Food, North Indian, Chinese',\n",
       " 'Italian, Pizza',\n",
       " 'Gajar Ka Halwa, Lassi, Jeera Rice, Shahi Paneer, Shikanji, Makke Ki Roti, Kofta Curry',\n",
       " 'Waffles, Cup Cake, Chocolate Cake',\n",
       " 'Food Court',\n",
       " 'Fish, Curry Crab, Mocktails, Luchi, Kosha Mangsho, Sea Food, Daab Chingri',\n",
       " 'Sandwiches, Bbq Chicken Pizza, Burgers, Steak, Mashed Potato, Peri Peri Chicken Pizza, Aglio Olio Pasta',\n",
       " 'Prawn, Panipuri, Chaat, Biryani, Paan Ice Cream, Brownie, Tandoori Prawns',\n",
       " 'Goan, Asian, North Indian, European, Continental',\n",
       " 'Chinese, North Indian, Continental',\n",
       " 'North Indian, Chinese, South Indian, Beverages',\n",
       " 'North Indian, Lebanese, Rolls',\n",
       " 'Bamboo Chicken, Paneer Biryani, Chicken Biryani, Raita, Pot Biryani, Curd Rice, Roti',\n",
       " 'Chicken Grill, Chicken Tikka Roll, Grape Juice, Biryani, Shawarma Roll, Tandoori Chicken, Tandoori Raan',\n",
       " 'Chicken Grill, Falafel, Mint Lemonade, Thali',\n",
       " 'Fish, Chicken Biryani, Butter Naan, Dal Makhani, Fries, Hyderabadi Chicken, Vegetable Biryani',\n",
       " 'Ghee Dosa, Chai, Mysore Pak, Filter Coffee, Vada, Salad, Masala Dosa',\n",
       " 'Kurkure Pizza, Garlic Bread, Pasta, Masala Lemonade, Chicken Wings, Double Trouble, Veggie Pizza',\n",
       " 'Lassi, Liti Chokha, Chicken Keema Paratha, Buttermilk, Raita, Aloo Paratha, Chocolate Paratha',\n",
       " 'Masala Dosa, Pongal, Filter Coffee, Panneer Butter Masala, Idli, Pav Bhaji, Tea',\n",
       " 'Stuffed Garlic Bread',\n",
       " 'Filter Coffee, Mysore Masala Dosa, Buttermilk, Idli, Rava Dosa, Neer Dosa, Thali',\n",
       " 'Fish, Veg Thali, Biryani',\n",
       " 'Whole Meat Shawarma, Jumbo Shawarma, Spicy Shawarma, Momos',\n",
       " 'South Indian, Mangalorean, Kerala',\n",
       " 'Chettinad, South Indian',\n",
       " 'Masala Vada Pav, Kulfi',\n",
       " 'Rolls, French Fries, Paratha',\n",
       " 'Pizza',\n",
       " 'Brookefield',\n",
       " 'North Indian, Chinese, Fast Food',\n",
       " 'Asian, Continental, European, Fast Food, North Indian, Mughlai, South Indian',\n",
       " 'Cafe, Fast Food, Continental',\n",
       " 'Cafe, French, North Indian',\n",
       " 'Kerala, Seafood, Biryani',\n",
       " 'Burgers, Caramel Milkshake, Iced Coffee, Iced Tea',\n",
       " 'Chicken Grill, Shawarma, Biryani, Grape Juice, Rolls, Paratha, Chicken Tikka Roll',\n",
       " 'French Fries, Veg Burger, Pancakes, English Breakfast, Omelette',\n",
       " 'Kheer, Lassi, Paratha, Amritsari Kulcha, Dal Makhani, Chole Bhature, Aloo Kulcha',\n",
       " 'Pizza, Garlic Bread, Chocolava',\n",
       " 'Roti, Thali, Paratha',\n",
       " 'Coffee, Vada, Chaat, Rava Idli',\n",
       " 'Cup Cake, Almond Pie, Chicken Delight, Apple Pie, Chicken Quiche',\n",
       " 'Dal Makhani, Butter Chicken, Tandoori Momos',\n",
       " 'Gulab Jamun, Roti, Masala Papad, Babycorn Manchurian, Paratha, Clear Soup, Biryani',\n",
       " 'Rolls, Burgers, Juicy Momos, Chicken Momo, Chocolate Momos, Mushroom Momo, Paneer Momos',\n",
       " 'Rolls, Masala Veg Frankie, Chicken Frankie',\n",
       " 'Salads, Gulab Jamun, Breakfast Buffet, Fish, Lunch Buffet, French Toast, Chicken Wings',\n",
       " 'North Indian, Chinese, Kebab',\n",
       " 'North Indian, Andhra',\n",
       " 'Burger, Continental, Italian, Beverages',\n",
       " 'Malaysian, Thai, Singaporean, Asian, Chinese, Momos',\n",
       " 'Burgers, Salad, Mocktails, Pasta Arrabiata, Fries, Nutella Cheesecake, Teriyaki Chicken Wings',\n",
       " 'Chicken Shorba, Paneer Tikka Masala, Cocktails, Jumbo Prawns, Beer, Butter Naan, Paan Shot',\n",
       " 'Cocktails, Apple Cider, Craft Beer, Burgers, Stout, Seafood Salad, Sabudana Vada',\n",
       " 'Cafe, Continental, Italian, Burger, Beverages',\n",
       " 'Cafe, Fast Food, Burger',\n",
       " 'Biryani, Cocktails, Pasta, Peri Peri Chicken, Mocktails, Paneer Tikka Masala, Pizza',\n",
       " 'Burgers, Pasta, Cheesy Fries, Beef Burger, Ice Tea, Steak Burger, Lamb',\n",
       " 'South Indian, Chettinad, Kerala, Seafood',\n",
       " 'Asian, Thai, Vietnamese, Malaysian, Beverages',\n",
       " 'Burgers, Pasta, Crunchy Veg Burger, American Cheese Burger, Peri Peri Chicken Burger, Mojito, Chicken Paprika',\n",
       " 'Butter Chicken, Mocktails, Pizza, Virgin Mojito, Nachos, Cocktails, Egg Chilli',\n",
       " 'Cocktails, Bruschettas, Peppy Paneer Pizza, Beer, Caramel Custard, Peri Peri Wings, Wood Fire Pizza',\n",
       " 'Cocktails, Peri Peri Chicken, Biryani, Mocktails, Pizza, Sangria, Chicken Dim Sum',\n",
       " 'Cocktails, Sunday Brunch, Rasmalai, Lunch Buffet, Biryani, Ravioli, Sunday Brunches',\n",
       " 'Garlic Bread, Peri Peri Chicken, Burgers, Chicken Grill, Chicken Wings, Peri Fries, Mocktails',\n",
       " 'Hazelnut Cappuccino, Pancakes, Nutella Shake, Chocolate Icecreams, Butter Chicken, Vanilla Ice Cream, Hibiscus Tea',\n",
       " 'Hot Chocolate, Chocolate Pastry, Cheesecake, Chocolate Sundae, Coffee, Chips, Macaroon',\n",
       " 'Pizza, Chocolate Cake, Cocktails, Beer, Nachos, Sangria, Mocktails',\n",
       " 'Pizza, Nachos, Garlic Maggi, Burgers, Cheese Maggi, Cottage Cheese Sandwich, Bruschetta Bites',\n",
       " 'Ricotta Ravioli, Pasta, Bbq Chicken Pizza, Butter Chicken Pizza, Farmhouse Pizza, Mojito, Barbeque Chicken Pizza',\n",
       " 'Virgin Mojito, Butter Chicken, Mocktails, Pizza, Nachos, Cocktails, Egg Chilli',\n",
       " 'Seafood, Biryani, South Indian, Chettinad, Chinese, Arabian, Andhra, Kerala',\n",
       " 'Chicken Biryani, Chicken Wings, Chicken Curry, Kadhai Paneer, Butter Chicken, Noodles, Vegetable Biryani',\n",
       " 'Chicken Nachos, Chicken Tacos, Rice Bowl',\n",
       " 'Bengali, North Indian, Chinese',\n",
       " 'North Indian, Mughlai, Biryani',\n",
       " 'Friendly Staff',\n",
       " 'Continental, North Indian, Chinese, American',\n",
       " 'Delivery',\n",
       " 'Cafe, Italian, Continental, European, Biryani, Chinese',\n",
       " 'Chinese, South Indian, Andhra, North Indian, Biryani',\n",
       " 'Mangalorean, Chinese, North Indian, Biryani',\n",
       " 'North Indian, Chinese, Momos, Rolls',\n",
       " 'Oriya, North Indian, Chinese']"
      ]
     },
     "execution_count": 77,
     "metadata": {},
     "output_type": "execute_result"
    }
   ],
   "source": [
    "col_select_list"
   ]
  },
  {
   "cell_type": "code",
   "execution_count": 78,
   "id": "other-excuse",
   "metadata": {},
   "outputs": [],
   "source": [
    "x_select=split_x.loc[:,col_select_list]"
   ]
  },
  {
   "cell_type": "code",
   "execution_count": 79,
   "id": "entire-garden",
   "metadata": {},
   "outputs": [
    {
     "data": {
      "text/html": [
       "<div>\n",
       "<style scoped>\n",
       "    .dataframe tbody tr th:only-of-type {\n",
       "        vertical-align: middle;\n",
       "    }\n",
       "\n",
       "    .dataframe tbody tr th {\n",
       "        vertical-align: top;\n",
       "    }\n",
       "\n",
       "    .dataframe thead th {\n",
       "        text-align: right;\n",
       "    }\n",
       "</style>\n",
       "<table border=\"1\" class=\"dataframe\">\n",
       "  <thead>\n",
       "    <tr style=\"text-align: right;\">\n",
       "      <th></th>\n",
       "      <th>Dj</th>\n",
       "      <th>Dance Floor, Dj</th>\n",
       "      <th>Nachos, Pizza, Margarita, Mushroom Soup, Tacos, Tortilla Soup, Chicken Burritos</th>\n",
       "      <th>Mutton Biryani, Chilli Paneer, Chicken Biryani</th>\n",
       "      <th>votes</th>\n",
       "      <th>Asian, Chinese, Thai, Momos</th>\n",
       "      <th>Noodles, Chicken Dim Sum, Pad Thai Noodle, Jumbo Prawns, Cocktails, Prawn Sushi, Treasure Soup</th>\n",
       "      <th>Noodles, Tandoori Chicken</th>\n",
       "      <th>Coffee, Berryblast, Nachos, Chocolate Waffles, Nutella Waffle, Chocolate Overload, Sandwiches</th>\n",
       "      <th>Mexican</th>\n",
       "      <th>...</th>\n",
       "      <th>North Indian, Mughlai, Biryani</th>\n",
       "      <th>Friendly Staff</th>\n",
       "      <th>Continental, North Indian, Chinese, American</th>\n",
       "      <th>Delivery</th>\n",
       "      <th>Delivery</th>\n",
       "      <th>Cafe, Italian, Continental, European, Biryani, Chinese</th>\n",
       "      <th>Chinese, South Indian, Andhra, North Indian, Biryani</th>\n",
       "      <th>Mangalorean, Chinese, North Indian, Biryani</th>\n",
       "      <th>North Indian, Chinese, Momos, Rolls</th>\n",
       "      <th>Oriya, North Indian, Chinese</th>\n",
       "    </tr>\n",
       "  </thead>\n",
       "  <tbody>\n",
       "    <tr>\n",
       "      <th>0</th>\n",
       "      <td>0</td>\n",
       "      <td>0</td>\n",
       "      <td>0</td>\n",
       "      <td>0</td>\n",
       "      <td>775.0</td>\n",
       "      <td>0</td>\n",
       "      <td>0</td>\n",
       "      <td>0</td>\n",
       "      <td>0</td>\n",
       "      <td>0</td>\n",
       "      <td>...</td>\n",
       "      <td>0</td>\n",
       "      <td>0</td>\n",
       "      <td>0</td>\n",
       "      <td>0</td>\n",
       "      <td>0</td>\n",
       "      <td>0</td>\n",
       "      <td>0</td>\n",
       "      <td>0</td>\n",
       "      <td>0</td>\n",
       "      <td>0</td>\n",
       "    </tr>\n",
       "    <tr>\n",
       "      <th>1</th>\n",
       "      <td>0</td>\n",
       "      <td>0</td>\n",
       "      <td>0</td>\n",
       "      <td>0</td>\n",
       "      <td>787.0</td>\n",
       "      <td>0</td>\n",
       "      <td>0</td>\n",
       "      <td>0</td>\n",
       "      <td>0</td>\n",
       "      <td>0</td>\n",
       "      <td>...</td>\n",
       "      <td>0</td>\n",
       "      <td>0</td>\n",
       "      <td>0</td>\n",
       "      <td>0</td>\n",
       "      <td>0</td>\n",
       "      <td>0</td>\n",
       "      <td>0</td>\n",
       "      <td>0</td>\n",
       "      <td>0</td>\n",
       "      <td>0</td>\n",
       "    </tr>\n",
       "    <tr>\n",
       "      <th>2</th>\n",
       "      <td>0</td>\n",
       "      <td>0</td>\n",
       "      <td>0</td>\n",
       "      <td>0</td>\n",
       "      <td>918.0</td>\n",
       "      <td>0</td>\n",
       "      <td>0</td>\n",
       "      <td>0</td>\n",
       "      <td>0</td>\n",
       "      <td>0</td>\n",
       "      <td>...</td>\n",
       "      <td>0</td>\n",
       "      <td>0</td>\n",
       "      <td>0</td>\n",
       "      <td>0</td>\n",
       "      <td>0</td>\n",
       "      <td>0</td>\n",
       "      <td>0</td>\n",
       "      <td>0</td>\n",
       "      <td>0</td>\n",
       "      <td>0</td>\n",
       "    </tr>\n",
       "    <tr>\n",
       "      <th>3</th>\n",
       "      <td>0</td>\n",
       "      <td>0</td>\n",
       "      <td>0</td>\n",
       "      <td>0</td>\n",
       "      <td>88.0</td>\n",
       "      <td>0</td>\n",
       "      <td>0</td>\n",
       "      <td>0</td>\n",
       "      <td>0</td>\n",
       "      <td>0</td>\n",
       "      <td>...</td>\n",
       "      <td>0</td>\n",
       "      <td>0</td>\n",
       "      <td>0</td>\n",
       "      <td>0</td>\n",
       "      <td>0</td>\n",
       "      <td>0</td>\n",
       "      <td>0</td>\n",
       "      <td>0</td>\n",
       "      <td>0</td>\n",
       "      <td>0</td>\n",
       "    </tr>\n",
       "    <tr>\n",
       "      <th>4</th>\n",
       "      <td>0</td>\n",
       "      <td>0</td>\n",
       "      <td>0</td>\n",
       "      <td>0</td>\n",
       "      <td>166.0</td>\n",
       "      <td>0</td>\n",
       "      <td>0</td>\n",
       "      <td>0</td>\n",
       "      <td>0</td>\n",
       "      <td>0</td>\n",
       "      <td>...</td>\n",
       "      <td>0</td>\n",
       "      <td>0</td>\n",
       "      <td>0</td>\n",
       "      <td>0</td>\n",
       "      <td>0</td>\n",
       "      <td>0</td>\n",
       "      <td>0</td>\n",
       "      <td>0</td>\n",
       "      <td>0</td>\n",
       "      <td>0</td>\n",
       "    </tr>\n",
       "  </tbody>\n",
       "</table>\n",
       "<p>5 rows × 806 columns</p>\n",
       "</div>"
      ],
      "text/plain": [
       "   Dj  Dance Floor, Dj  \\\n",
       "0   0                0   \n",
       "1   0                0   \n",
       "2   0                0   \n",
       "3   0                0   \n",
       "4   0                0   \n",
       "\n",
       "   Nachos, Pizza, Margarita, Mushroom Soup, Tacos, Tortilla Soup, Chicken Burritos  \\\n",
       "0                                                  0                                 \n",
       "1                                                  0                                 \n",
       "2                                                  0                                 \n",
       "3                                                  0                                 \n",
       "4                                                  0                                 \n",
       "\n",
       "   Mutton Biryani, Chilli Paneer, Chicken Biryani  votes  \\\n",
       "0                                               0  775.0   \n",
       "1                                               0  787.0   \n",
       "2                                               0  918.0   \n",
       "3                                               0   88.0   \n",
       "4                                               0  166.0   \n",
       "\n",
       "   Asian, Chinese, Thai, Momos  \\\n",
       "0                            0   \n",
       "1                            0   \n",
       "2                            0   \n",
       "3                            0   \n",
       "4                            0   \n",
       "\n",
       "   Noodles, Chicken Dim Sum, Pad Thai Noodle, Jumbo Prawns, Cocktails, Prawn Sushi, Treasure Soup  \\\n",
       "0                                                  0                                                \n",
       "1                                                  0                                                \n",
       "2                                                  0                                                \n",
       "3                                                  0                                                \n",
       "4                                                  0                                                \n",
       "\n",
       "   Noodles, Tandoori Chicken  \\\n",
       "0                          0   \n",
       "1                          0   \n",
       "2                          0   \n",
       "3                          0   \n",
       "4                          0   \n",
       "\n",
       "   Coffee, Berryblast, Nachos, Chocolate Waffles, Nutella Waffle, Chocolate Overload, Sandwiches  \\\n",
       "0                                                  0                                               \n",
       "1                                                  0                                               \n",
       "2                                                  0                                               \n",
       "3                                                  0                                               \n",
       "4                                                  0                                               \n",
       "\n",
       "   Mexican  ...  North Indian, Mughlai, Biryani  Friendly Staff  \\\n",
       "0        0  ...                               0               0   \n",
       "1        0  ...                               0               0   \n",
       "2        0  ...                               0               0   \n",
       "3        0  ...                               0               0   \n",
       "4        0  ...                               0               0   \n",
       "\n",
       "   Continental, North Indian, Chinese, American  Delivery  Delivery  \\\n",
       "0                                             0         0         0   \n",
       "1                                             0         0         0   \n",
       "2                                             0         0         0   \n",
       "3                                             0         0         0   \n",
       "4                                             0         0         0   \n",
       "\n",
       "   Cafe, Italian, Continental, European, Biryani, Chinese  \\\n",
       "0                                                  0        \n",
       "1                                                  0        \n",
       "2                                                  0        \n",
       "3                                                  0        \n",
       "4                                                  0        \n",
       "\n",
       "   Chinese, South Indian, Andhra, North Indian, Biryani  \\\n",
       "0                                                  0      \n",
       "1                                                  0      \n",
       "2                                                  0      \n",
       "3                                                  0      \n",
       "4                                                  0      \n",
       "\n",
       "   Mangalorean, Chinese, North Indian, Biryani  \\\n",
       "0                                            0   \n",
       "1                                            0   \n",
       "2                                            0   \n",
       "3                                            0   \n",
       "4                                            0   \n",
       "\n",
       "   North Indian, Chinese, Momos, Rolls  Oriya, North Indian, Chinese  \n",
       "0                                    0                             0  \n",
       "1                                    0                             0  \n",
       "2                                    0                             0  \n",
       "3                                    0                             0  \n",
       "4                                    0                             0  \n",
       "\n",
       "[5 rows x 806 columns]"
      ]
     },
     "execution_count": 79,
     "metadata": {},
     "output_type": "execute_result"
    }
   ],
   "source": [
    "x_select.head()"
   ]
  },
  {
   "cell_type": "code",
   "execution_count": 80,
   "id": "black-cloud",
   "metadata": {},
   "outputs": [
    {
     "name": "stdout",
     "output_type": "stream",
     "text": [
      "<class 'pandas.core.frame.DataFrame'>\n",
      "Int64Index: 23248 entries, 0 to 51715\n",
      "Columns: 806 entries, Dj to Oriya, North Indian, Chinese\n",
      "dtypes: float64(4), uint8(802)\n",
      "memory usage: 19.2 MB\n"
     ]
    }
   ],
   "source": [
    "x_select.info()"
   ]
  },
  {
   "cell_type": "code",
   "execution_count": 81,
   "id": "intelligent-assist",
   "metadata": {},
   "outputs": [],
   "source": [
    "x_select = x_select.loc[:, ~x_select.columns.duplicated()]"
   ]
  },
  {
   "cell_type": "code",
   "execution_count": 82,
   "id": "female-posting",
   "metadata": {},
   "outputs": [],
   "source": [
    "from sklearn.model_selection import train_test_split\n",
    "X_train,X_test,y_train,y_test=train_test_split(x_select,split_y,test_size=0.05,random_state=42)"
   ]
  },
  {
   "cell_type": "code",
   "execution_count": 83,
   "id": "wound-gateway",
   "metadata": {},
   "outputs": [],
   "source": [
    "from sklearn.linear_model import LinearRegression\n",
    "linreg=LinearRegression()"
   ]
  },
  {
   "cell_type": "code",
   "execution_count": 84,
   "id": "agricultural-disabled",
   "metadata": {},
   "outputs": [
    {
     "data": {
      "text/plain": [
       "LinearRegression()"
      ]
     },
     "execution_count": 84,
     "metadata": {},
     "output_type": "execute_result"
    }
   ],
   "source": [
    "linreg.fit(X_train,y_train)"
   ]
  },
  {
   "cell_type": "code",
   "execution_count": 85,
   "id": "returning-choir",
   "metadata": {},
   "outputs": [],
   "source": [
    "Y_linreg_pred=linreg.predict(X_test)"
   ]
  },
  {
   "cell_type": "code",
   "execution_count": 86,
   "id": "enabling-appendix",
   "metadata": {},
   "outputs": [],
   "source": [
    "from sklearn.metrics import r2_score"
   ]
  },
  {
   "cell_type": "code",
   "execution_count": 87,
   "id": "artificial-welding",
   "metadata": {},
   "outputs": [
    {
     "data": {
      "text/plain": [
       "0.7262059027460742"
      ]
     },
     "execution_count": 87,
     "metadata": {},
     "output_type": "execute_result"
    }
   ],
   "source": [
    "r2_score(y_test,Y_linreg_pred)"
   ]
  },
  {
   "cell_type": "code",
   "execution_count": 88,
   "id": "relevant-december",
   "metadata": {},
   "outputs": [],
   "source": [
    "acc_len=linreg.score(X_train,y_train)"
   ]
  },
  {
   "cell_type": "code",
   "execution_count": 89,
   "id": "architectural-trouble",
   "metadata": {},
   "outputs": [
    {
     "data": {
      "text/plain": [
       "0.74974781509897"
      ]
     },
     "execution_count": 89,
     "metadata": {},
     "output_type": "execute_result"
    }
   ],
   "source": [
    "acc_len"
   ]
  },
  {
   "cell_type": "code",
   "execution_count": null,
   "id": "renewable-proportion",
   "metadata": {},
   "outputs": [],
   "source": []
  },
  {
   "cell_type": "code",
   "execution_count": null,
   "id": "american-range",
   "metadata": {},
   "outputs": [],
   "source": []
  }
 ],
 "metadata": {
  "kernelspec": {
   "display_name": "Python 3",
   "language": "python",
   "name": "python3"
  },
  "language_info": {
   "codemirror_mode": {
    "name": "ipython",
    "version": 3
   },
   "file_extension": ".py",
   "mimetype": "text/x-python",
   "name": "python",
   "nbconvert_exporter": "python",
   "pygments_lexer": "ipython3",
   "version": "3.8.3"
  }
 },
 "nbformat": 4,
 "nbformat_minor": 5
}
